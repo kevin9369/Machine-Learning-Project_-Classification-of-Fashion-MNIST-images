{
 "cells": [
  {
   "cell_type": "markdown",
   "metadata": {},
   "source": [
    "# Classification of Fashion-MNIST images-Using logistic regression"
   ]
  },
  {
   "cell_type": "markdown",
   "metadata": {},
   "source": [
    "Import required modules"
   ]
  },
  {
   "cell_type": "code",
   "execution_count": 1,
   "metadata": {},
   "outputs": [],
   "source": [
    "from __future__ import print_function , division\n",
    "import tensorflow as tf\n",
    "import pandas as pd\n",
    "import numpy as np\n",
    "import matplotlib . pyplot as plt\n",
    "import seaborn\n",
    "from sklearn.model_selection import train_test_split\n",
    "import random "
   ]
  },
  {
   "cell_type": "markdown",
   "metadata": {},
   "source": [
    "Load the data file"
   ]
  },
  {
   "cell_type": "code",
   "execution_count": 2,
   "metadata": {},
   "outputs": [],
   "source": [
    "fashion_mnist = tf.keras.datasets.fashion_mnist\n",
    "(train_images, train_labels), (test_images, test_labels) = fashion_mnist.load_data()"
   ]
  },
  {
   "cell_type": "markdown",
   "metadata": {},
   "source": [
    "Feature normalization to training,test set, and convert yn to the format of one-hot encoding"
   ]
  },
  {
   "cell_type": "code",
   "execution_count": 3,
   "metadata": {},
   "outputs": [
    {
     "name": "stdout",
     "output_type": "stream",
     "text": [
      "60000 training samples\n",
      "10000 test samples\n"
     ]
    }
   ],
   "source": [
    "#reshape\n",
    "train_images = train_images.reshape(60000, 784)\n",
    "test_images = test_images.reshape(10000, 784)\n",
    "train_images = train_images.astype('float32')\n",
    "test_images= test_images.astype('float32')\n",
    "\n",
    "#normalize the value of every pixel into the range of 0 to 1\n",
    "num_classes=10\n",
    "train_images /= 255\n",
    "test_images /= 255\n",
    "print(train_images.shape[0], 'training samples')\n",
    "print(test_images.shape[0], 'test samples')\n",
    "\n",
    "# convert yn to the format of one-hot encoding\n",
    "train_labels = np.eye(num_classes)[train_labels]\n",
    "test_labels = np.eye(num_classes)[test_labels] \n"
   ]
  },
  {
   "cell_type": "markdown",
   "metadata": {},
   "source": [
    "split the data into training, validation, and test"
   ]
  },
  {
   "cell_type": "code",
   "execution_count": 4,
   "metadata": {},
   "outputs": [
    {
     "name": "stdout",
     "output_type": "stream",
     "text": [
      "train: (54000, 784) (54000, 10)\n",
      "validation: (6000, 784) (6000, 10)\n",
      "test: (10000, 784) (10000, 10)\n"
     ]
    }
   ],
   "source": [
    "x_train, x_val, y_train, y_val = train_test_split(train_images,train_labels, test_size=0.1, random_state=0)\n",
    "print('train:', x_train.shape, y_train.shape)\n",
    "print('validation:', x_val.shape, y_val.shape)\n",
    "print('test:', test_images.shape, test_labels.shape)"
   ]
  },
  {
   "cell_type": "markdown",
   "metadata": {},
   "source": [
    "Randomly obtained batch_size from dataset and define logistic regression model"
   ]
  },
  {
   "cell_type": "code",
   "execution_count": 5,
   "metadata": {},
   "outputs": [],
   "source": [
    "import tensorflow as tf\n",
    "import numpy as np\n",
    "\n",
    "def next_batch(batch_size, data, labels):\n",
    "    idx = np.arange(0 , len(data))\n",
    "    np.random.shuffle(idx)\n",
    "    idx = idx[:batch_size]\n",
    "    data_shuffle = [data[i] for i in idx]\n",
    "    labels_shuffle = [labels[i] for i in idx]\n",
    "    return np.asarray(data_shuffle), np.asarray(labels_shuffle)\n",
    "\n",
    "def build_model(X, num_input, num_output):\n",
    "    n0 = num_input   # MNIST data input (img shape: 28*28)\n",
    "    n1 = 256         # number of neurons in 1st hidden layer\n",
    "    n2 = num_output  # output layer\n",
    "\n",
    "    W1 = tf.Variable(tf.random_normal([n0, n1]))\n",
    "    B1 = tf.Variable(tf.random_normal([n1]))\n",
    "    W2 = tf.Variable(tf.random_normal([n1, n2]))\n",
    "    B2 = tf.Variable(tf.random_normal([n2]))\n",
    "\n",
    "    Y1 = tf.add(tf.matmul(X, W1), B1)\n",
    "    yhat = tf.add(tf.matmul(Y1, W2), B2)\n",
    "\n",
    "    return yhat"
   ]
  },
  {
   "cell_type": "markdown",
   "metadata": {},
   "source": [
    "Set up hyperparameter"
   ]
  },
  {
   "cell_type": "code",
   "execution_count": 6,
   "metadata": {},
   "outputs": [],
   "source": [
    "learning_rate = 0.001\n",
    "training_steps =1000\n",
    "batch_size = 128\n",
    "num_features = 784"
   ]
  },
  {
   "cell_type": "markdown",
   "metadata": {},
   "source": [
    "Initialization parameters"
   ]
  },
  {
   "cell_type": "code",
   "execution_count": 7,
   "metadata": {},
   "outputs": [
    {
     "name": "stdout",
     "output_type": "stream",
     "text": [
      "WARNING:tensorflow:From C:\\Users\\USER\\AppData\\Roaming\\Python\\Python38\\site-packages\\tensorflow\\python\\compat\\v2_compat.py:96: disable_resource_variables (from tensorflow.python.ops.variable_scope) is deprecated and will be removed in a future version.\n",
      "Instructions for updating:\n",
      "non-resource variables are not supported in the long term\n"
     ]
    }
   ],
   "source": [
    "import tensorflow.compat.v1 as tf\n",
    "tf.disable_v2_behavior()\n",
    "X = tf.placeholder(tf.float32,[None, 784])    \n",
    "Y = tf.placeholder(tf.float32,[None, 10])"
   ]
  },
  {
   "cell_type": "markdown",
   "metadata": {},
   "source": [
    "Construct model-using softmax function"
   ]
  },
  {
   "cell_type": "code",
   "execution_count": 8,
   "metadata": {},
   "outputs": [],
   "source": [
    "num_input = x_train.shape[1]   # image shape: 28*28=784\n",
    "num_classes = y_train.shape[1] # MNIST total classes (0-9 digits)\n",
    "\n",
    "yhat = build_model(X, num_input, num_classes)\n",
    "pred = tf.nn.softmax(yhat)"
   ]
  },
  {
   "cell_type": "markdown",
   "metadata": {},
   "source": [
    "Set up loss and optimizer"
   ]
  },
  {
   "cell_type": "code",
   "execution_count": 9,
   "metadata": {},
   "outputs": [],
   "source": [
    "Loss_logistic= tf.reduce_mean(tf.nn.softmax_cross_entropy_with_logits_v2(logits=yhat, labels=Y))\n",
    "Optimizer = tf.train.AdamOptimizer(learning_rate=0.001).minimize(Loss_logistic)"
   ]
  },
  {
   "cell_type": "markdown",
   "metadata": {},
   "source": [
    "Set up accurancy and Initialize the variables"
   ]
  },
  {
   "cell_type": "code",
   "execution_count": 10,
   "metadata": {},
   "outputs": [],
   "source": [
    "#Set up accurancy \n",
    "correct = tf.equal(tf.argmax(pred, 1), tf.argmax(Y, 1))\n",
    "accrancy_logistic  = tf.reduce_mean(tf.cast(correct,\"float\"))\n",
    "# Initialize the variables\n",
    "init = tf.global_variables_initializer() "
   ]
  },
  {
   "cell_type": "markdown",
   "metadata": {},
   "source": [
    "Training Logistic regression model, and Calculate the accurancy and loss on test set."
   ]
  },
  {
   "cell_type": "code",
   "execution_count": 11,
   "metadata": {},
   "outputs": [
    {
     "name": "stdout",
     "output_type": "stream",
     "text": [
      "epoch 0, loss= 257.9059, acc= 0.047\n",
      "epoch 1, loss= 254.0772, acc= 0.062\n",
      "epoch 2, loss= 231.0611, acc= 0.031\n",
      "epoch 3, loss= 222.0504, acc= 0.078\n",
      "epoch 4, loss= 205.5984, acc= 0.094\n",
      "epoch 5, loss= 176.3646, acc= 0.117\n",
      "epoch 6, loss= 163.7102, acc= 0.125\n",
      "epoch 7, loss= 162.7980, acc= 0.109\n",
      "epoch 8, loss= 168.3495, acc= 0.078\n",
      "epoch 9, loss= 154.1167, acc= 0.125\n",
      "epoch 10, loss= 136.3918, acc= 0.125\n",
      "epoch 11, loss= 139.0674, acc= 0.109\n",
      "epoch 12, loss= 151.1094, acc= 0.125\n",
      "epoch 13, loss= 134.0735, acc= 0.172\n",
      "epoch 14, loss= 128.3147, acc= 0.102\n",
      "epoch 15, loss= 128.8245, acc= 0.125\n",
      "epoch 16, loss= 116.7063, acc= 0.125\n",
      "epoch 17, loss= 110.3234, acc= 0.195\n",
      "epoch 18, loss= 101.3902, acc= 0.219\n",
      "epoch 19, loss= 103.9765, acc= 0.125\n",
      "epoch 20, loss= 112.4274, acc= 0.164\n",
      "epoch 21, loss= 106.3497, acc= 0.172\n",
      "epoch 22, loss= 80.6219, acc= 0.227\n",
      "epoch 23, loss= 91.8484, acc= 0.156\n",
      "epoch 24, loss= 88.0503, acc= 0.227\n",
      "epoch 25, loss= 79.2015, acc= 0.242\n",
      "epoch 26, loss= 77.8855, acc= 0.234\n",
      "epoch 27, loss= 75.5058, acc= 0.250\n",
      "epoch 28, loss= 81.9240, acc= 0.188\n",
      "epoch 29, loss= 67.7850, acc= 0.273\n",
      "epoch 30, loss= 72.1322, acc= 0.344\n",
      "epoch 31, loss= 75.9738, acc= 0.266\n",
      "epoch 32, loss= 61.5078, acc= 0.320\n",
      "epoch 33, loss= 75.9702, acc= 0.320\n",
      "epoch 34, loss= 58.1709, acc= 0.336\n",
      "epoch 35, loss= 53.1857, acc= 0.367\n",
      "epoch 36, loss= 65.0178, acc= 0.375\n",
      "epoch 37, loss= 53.1724, acc= 0.430\n",
      "epoch 38, loss= 69.7532, acc= 0.336\n",
      "epoch 39, loss= 63.0260, acc= 0.305\n",
      "epoch 40, loss= 43.5899, acc= 0.477\n",
      "epoch 41, loss= 48.8313, acc= 0.445\n",
      "epoch 42, loss= 48.9499, acc= 0.414\n",
      "epoch 43, loss= 52.7269, acc= 0.398\n",
      "epoch 44, loss= 50.4904, acc= 0.461\n",
      "epoch 45, loss= 37.8585, acc= 0.516\n",
      "epoch 46, loss= 47.0476, acc= 0.461\n",
      "epoch 47, loss= 46.5184, acc= 0.414\n",
      "epoch 48, loss= 48.3565, acc= 0.430\n",
      "epoch 49, loss= 47.6088, acc= 0.469\n",
      "epoch 50, loss= 49.3191, acc= 0.383\n",
      "epoch 51, loss= 38.8958, acc= 0.469\n",
      "epoch 52, loss= 37.3401, acc= 0.531\n",
      "epoch 53, loss= 29.5365, acc= 0.539\n",
      "epoch 54, loss= 41.1320, acc= 0.508\n",
      "epoch 55, loss= 48.4568, acc= 0.484\n",
      "epoch 56, loss= 32.8611, acc= 0.570\n",
      "epoch 57, loss= 38.6823, acc= 0.508\n",
      "epoch 58, loss= 45.6163, acc= 0.477\n",
      "epoch 59, loss= 44.0370, acc= 0.508\n",
      "epoch 60, loss= 40.2411, acc= 0.484\n",
      "epoch 61, loss= 39.3094, acc= 0.586\n",
      "epoch 62, loss= 34.4358, acc= 0.555\n",
      "epoch 63, loss= 38.4011, acc= 0.516\n",
      "epoch 64, loss= 34.9290, acc= 0.508\n",
      "epoch 65, loss= 33.8636, acc= 0.570\n",
      "epoch 66, loss= 34.4694, acc= 0.531\n",
      "epoch 67, loss= 34.1708, acc= 0.586\n",
      "epoch 68, loss= 29.1157, acc= 0.578\n",
      "epoch 69, loss= 39.0168, acc= 0.531\n",
      "epoch 70, loss= 33.5592, acc= 0.523\n",
      "epoch 71, loss= 27.2586, acc= 0.648\n",
      "epoch 72, loss= 40.4609, acc= 0.539\n",
      "epoch 73, loss= 37.8335, acc= 0.539\n",
      "epoch 74, loss= 35.6474, acc= 0.562\n",
      "epoch 75, loss= 38.4318, acc= 0.539\n",
      "epoch 76, loss= 42.2696, acc= 0.570\n",
      "epoch 77, loss= 34.3660, acc= 0.547\n",
      "epoch 78, loss= 25.8100, acc= 0.617\n",
      "epoch 79, loss= 38.5512, acc= 0.523\n",
      "epoch 80, loss= 32.1455, acc= 0.523\n",
      "epoch 81, loss= 34.1934, acc= 0.562\n",
      "epoch 82, loss= 37.0375, acc= 0.562\n",
      "epoch 83, loss= 22.6079, acc= 0.633\n",
      "epoch 84, loss= 29.7546, acc= 0.609\n",
      "epoch 85, loss= 35.6395, acc= 0.570\n",
      "epoch 86, loss= 35.3346, acc= 0.547\n",
      "epoch 87, loss= 26.3071, acc= 0.625\n",
      "epoch 88, loss= 26.0102, acc= 0.648\n",
      "epoch 89, loss= 28.7379, acc= 0.602\n",
      "epoch 90, loss= 33.6290, acc= 0.547\n",
      "epoch 91, loss= 30.9247, acc= 0.539\n",
      "epoch 92, loss= 29.2517, acc= 0.633\n",
      "epoch 93, loss= 31.9081, acc= 0.547\n",
      "epoch 94, loss= 39.2681, acc= 0.547\n",
      "epoch 95, loss= 25.8577, acc= 0.586\n",
      "epoch 96, loss= 21.0387, acc= 0.641\n",
      "epoch 97, loss= 35.2272, acc= 0.594\n",
      "epoch 98, loss= 32.7821, acc= 0.555\n",
      "epoch 99, loss= 21.4914, acc= 0.641\n",
      "epoch 100, loss= 26.3354, acc= 0.680\n",
      "epoch 101, loss= 26.9081, acc= 0.633\n",
      "epoch 102, loss= 34.0494, acc= 0.625\n",
      "epoch 103, loss= 17.3251, acc= 0.656\n",
      "epoch 104, loss= 29.0115, acc= 0.609\n",
      "epoch 105, loss= 37.0958, acc= 0.539\n",
      "epoch 106, loss= 29.6471, acc= 0.648\n",
      "epoch 107, loss= 25.5403, acc= 0.664\n",
      "epoch 108, loss= 30.0117, acc= 0.633\n",
      "epoch 109, loss= 25.2883, acc= 0.625\n",
      "epoch 110, loss= 31.8747, acc= 0.688\n",
      "epoch 111, loss= 26.2293, acc= 0.578\n",
      "epoch 112, loss= 24.4957, acc= 0.664\n",
      "epoch 113, loss= 22.7297, acc= 0.602\n",
      "epoch 114, loss= 28.4510, acc= 0.656\n",
      "epoch 115, loss= 34.7309, acc= 0.586\n",
      "epoch 116, loss= 31.4284, acc= 0.547\n",
      "epoch 117, loss= 33.6706, acc= 0.555\n",
      "epoch 118, loss= 23.9214, acc= 0.680\n",
      "epoch 119, loss= 27.8144, acc= 0.633\n",
      "epoch 120, loss= 23.3785, acc= 0.641\n",
      "epoch 121, loss= 30.0050, acc= 0.609\n",
      "epoch 122, loss= 20.7968, acc= 0.656\n",
      "epoch 123, loss= 26.2834, acc= 0.656\n",
      "epoch 124, loss= 31.3956, acc= 0.664\n",
      "epoch 125, loss= 23.3269, acc= 0.680\n",
      "epoch 126, loss= 24.1845, acc= 0.695\n",
      "epoch 127, loss= 32.7162, acc= 0.547\n",
      "epoch 128, loss= 24.4544, acc= 0.664\n",
      "epoch 129, loss= 17.3069, acc= 0.703\n",
      "epoch 130, loss= 29.0608, acc= 0.617\n",
      "epoch 131, loss= 31.9223, acc= 0.523\n",
      "epoch 132, loss= 32.2206, acc= 0.648\n",
      "epoch 133, loss= 38.7620, acc= 0.586\n",
      "epoch 134, loss= 18.8248, acc= 0.672\n",
      "epoch 135, loss= 30.6693, acc= 0.586\n",
      "epoch 136, loss= 22.6997, acc= 0.648\n",
      "epoch 137, loss= 28.2627, acc= 0.641\n",
      "epoch 138, loss= 23.8079, acc= 0.633\n",
      "epoch 139, loss= 21.2192, acc= 0.656\n",
      "epoch 140, loss= 25.8047, acc= 0.602\n",
      "epoch 141, loss= 26.9513, acc= 0.680\n",
      "epoch 142, loss= 30.8057, acc= 0.594\n",
      "epoch 143, loss= 37.4974, acc= 0.594\n",
      "epoch 144, loss= 18.5837, acc= 0.641\n",
      "epoch 145, loss= 25.3252, acc= 0.609\n",
      "epoch 146, loss= 26.9906, acc= 0.633\n",
      "epoch 147, loss= 27.3568, acc= 0.617\n",
      "epoch 148, loss= 26.5335, acc= 0.641\n",
      "epoch 149, loss= 22.7110, acc= 0.656\n",
      "epoch 150, loss= 28.4124, acc= 0.633\n",
      "epoch 151, loss= 11.9125, acc= 0.758\n",
      "epoch 152, loss= 22.8324, acc= 0.625\n",
      "epoch 153, loss= 23.3479, acc= 0.664\n",
      "epoch 154, loss= 32.8035, acc= 0.617\n",
      "epoch 155, loss= 29.8649, acc= 0.586\n",
      "epoch 156, loss= 20.7982, acc= 0.703\n",
      "epoch 157, loss= 23.7627, acc= 0.633\n",
      "epoch 158, loss= 20.5337, acc= 0.688\n",
      "epoch 159, loss= 21.4817, acc= 0.672\n",
      "epoch 160, loss= 21.5856, acc= 0.664\n",
      "epoch 161, loss= 22.3785, acc= 0.633\n",
      "epoch 162, loss= 21.2930, acc= 0.688\n",
      "epoch 163, loss= 17.8506, acc= 0.734\n",
      "epoch 164, loss= 24.2741, acc= 0.656\n",
      "epoch 165, loss= 26.9054, acc= 0.617\n",
      "epoch 166, loss= 25.6216, acc= 0.695\n",
      "epoch 167, loss= 18.8435, acc= 0.656\n",
      "epoch 168, loss= 23.2780, acc= 0.719\n",
      "epoch 169, loss= 19.4042, acc= 0.695\n",
      "epoch 170, loss= 23.7974, acc= 0.648\n",
      "epoch 171, loss= 24.2617, acc= 0.641\n",
      "epoch 172, loss= 20.2580, acc= 0.641\n",
      "epoch 173, loss= 25.7939, acc= 0.680\n",
      "epoch 174, loss= 25.1586, acc= 0.602\n",
      "epoch 175, loss= 29.4154, acc= 0.562\n",
      "epoch 176, loss= 32.5423, acc= 0.617\n",
      "epoch 177, loss= 23.9036, acc= 0.688\n",
      "epoch 178, loss= 29.1511, acc= 0.664\n",
      "epoch 179, loss= 31.8055, acc= 0.617\n",
      "epoch 180, loss= 24.8701, acc= 0.594\n",
      "epoch 181, loss= 19.7014, acc= 0.672\n",
      "epoch 182, loss= 30.9153, acc= 0.586\n",
      "epoch 183, loss= 24.8282, acc= 0.688\n",
      "epoch 184, loss= 22.4805, acc= 0.703\n",
      "epoch 185, loss= 21.7759, acc= 0.664\n",
      "epoch 186, loss= 24.9586, acc= 0.672\n",
      "epoch 187, loss= 15.7246, acc= 0.742\n",
      "epoch 188, loss= 21.0826, acc= 0.617\n",
      "epoch 189, loss= 20.3234, acc= 0.695\n",
      "epoch 190, loss= 18.6921, acc= 0.695\n",
      "epoch 191, loss= 29.9217, acc= 0.609\n",
      "epoch 192, loss= 17.2465, acc= 0.719\n",
      "epoch 193, loss= 19.7070, acc= 0.758\n",
      "epoch 194, loss= 15.8665, acc= 0.695\n",
      "epoch 195, loss= 21.9451, acc= 0.672\n",
      "epoch 196, loss= 16.7310, acc= 0.727\n",
      "epoch 197, loss= 21.0852, acc= 0.656\n",
      "epoch 198, loss= 25.8124, acc= 0.664\n",
      "epoch 199, loss= 20.5124, acc= 0.656\n",
      "epoch 200, loss= 24.0084, acc= 0.672\n",
      "epoch 201, loss= 24.4527, acc= 0.648\n",
      "epoch 202, loss= 16.4891, acc= 0.727\n",
      "epoch 203, loss= 23.7504, acc= 0.648\n",
      "epoch 204, loss= 20.9076, acc= 0.672\n",
      "epoch 205, loss= 23.4371, acc= 0.680\n",
      "epoch 206, loss= 21.7534, acc= 0.586\n",
      "epoch 207, loss= 26.0178, acc= 0.609\n",
      "epoch 208, loss= 20.9131, acc= 0.672\n",
      "epoch 209, loss= 22.3692, acc= 0.648\n",
      "epoch 210, loss= 21.5153, acc= 0.656\n",
      "epoch 211, loss= 19.2799, acc= 0.664\n",
      "epoch 212, loss= 21.9604, acc= 0.695\n",
      "epoch 213, loss= 22.0251, acc= 0.688\n",
      "epoch 214, loss= 18.1931, acc= 0.727\n",
      "epoch 215, loss= 11.6014, acc= 0.773\n",
      "epoch 216, loss= 25.9563, acc= 0.641\n",
      "epoch 217, loss= 16.8993, acc= 0.766\n",
      "epoch 218, loss= 19.0376, acc= 0.695\n",
      "epoch 219, loss= 24.5874, acc= 0.672\n",
      "epoch 220, loss= 21.6293, acc= 0.609\n",
      "epoch 221, loss= 21.8195, acc= 0.664\n",
      "epoch 222, loss= 28.1467, acc= 0.617\n",
      "epoch 223, loss= 21.4377, acc= 0.680\n",
      "epoch 224, loss= 19.4663, acc= 0.734\n",
      "epoch 225, loss= 15.4686, acc= 0.711\n",
      "epoch 226, loss= 20.0265, acc= 0.742\n",
      "epoch 227, loss= 19.5568, acc= 0.727\n",
      "epoch 228, loss= 22.3437, acc= 0.688\n",
      "epoch 229, loss= 24.8658, acc= 0.633\n",
      "epoch 230, loss= 18.0539, acc= 0.719\n",
      "epoch 231, loss= 25.8594, acc= 0.586\n",
      "epoch 232, loss= 14.5949, acc= 0.672\n",
      "epoch 233, loss= 22.0155, acc= 0.633\n",
      "epoch 234, loss= 23.3418, acc= 0.688\n",
      "epoch 235, loss= 18.1127, acc= 0.719\n",
      "epoch 236, loss= 16.8102, acc= 0.680\n",
      "epoch 237, loss= 20.7949, acc= 0.648\n",
      "epoch 238, loss= 15.6410, acc= 0.742\n",
      "epoch 239, loss= 19.3884, acc= 0.742\n",
      "epoch 240, loss= 23.0322, acc= 0.664\n",
      "epoch 241, loss= 18.4252, acc= 0.695\n",
      "epoch 242, loss= 17.8757, acc= 0.680\n",
      "epoch 243, loss= 17.1265, acc= 0.695\n",
      "epoch 244, loss= 24.3724, acc= 0.680\n",
      "epoch 245, loss= 15.0589, acc= 0.680\n",
      "epoch 246, loss= 24.8541, acc= 0.672\n",
      "epoch 247, loss= 24.9108, acc= 0.672\n",
      "epoch 248, loss= 19.6386, acc= 0.703\n",
      "epoch 249, loss= 21.1996, acc= 0.672\n",
      "epoch 250, loss= 28.0701, acc= 0.656\n",
      "epoch 251, loss= 15.7140, acc= 0.719\n",
      "epoch 252, loss= 23.3789, acc= 0.672\n",
      "epoch 253, loss= 25.4823, acc= 0.633\n",
      "epoch 254, loss= 20.9259, acc= 0.727\n",
      "epoch 255, loss= 18.9262, acc= 0.711\n",
      "epoch 256, loss= 17.9720, acc= 0.672\n",
      "epoch 257, loss= 22.3330, acc= 0.648\n",
      "epoch 258, loss= 23.9921, acc= 0.688\n",
      "epoch 259, loss= 27.1211, acc= 0.578\n",
      "epoch 260, loss= 18.8532, acc= 0.703\n",
      "epoch 261, loss= 20.9200, acc= 0.633\n",
      "epoch 262, loss= 15.7659, acc= 0.727\n",
      "epoch 263, loss= 19.2980, acc= 0.727\n",
      "epoch 264, loss= 22.8038, acc= 0.680\n",
      "epoch 265, loss= 20.1332, acc= 0.719\n",
      "epoch 266, loss= 21.5121, acc= 0.656\n",
      "epoch 267, loss= 12.8442, acc= 0.711\n",
      "epoch 268, loss= 17.5410, acc= 0.703\n",
      "epoch 269, loss= 15.5338, acc= 0.758\n",
      "epoch 270, loss= 15.1276, acc= 0.719\n",
      "epoch 271, loss= 20.4148, acc= 0.688\n",
      "epoch 272, loss= 16.9015, acc= 0.695\n",
      "epoch 273, loss= 20.0449, acc= 0.633\n",
      "epoch 274, loss= 21.0153, acc= 0.711\n",
      "epoch 275, loss= 27.0673, acc= 0.664\n",
      "epoch 276, loss= 22.8260, acc= 0.711\n",
      "epoch 277, loss= 21.5805, acc= 0.711\n",
      "epoch 278, loss= 19.0723, acc= 0.680\n",
      "epoch 279, loss= 18.8490, acc= 0.711\n",
      "epoch 280, loss= 14.4093, acc= 0.727\n",
      "epoch 281, loss= 12.4761, acc= 0.758\n",
      "epoch 282, loss= 18.1252, acc= 0.648\n",
      "epoch 283, loss= 15.4708, acc= 0.703\n",
      "epoch 284, loss= 20.8388, acc= 0.672\n",
      "epoch 285, loss= 21.0216, acc= 0.703\n",
      "epoch 286, loss= 18.9761, acc= 0.695\n",
      "epoch 287, loss= 16.0329, acc= 0.742\n",
      "epoch 288, loss= 16.8859, acc= 0.688\n",
      "epoch 289, loss= 20.2022, acc= 0.688\n",
      "epoch 290, loss= 18.9371, acc= 0.656\n",
      "epoch 291, loss= 11.4744, acc= 0.773\n",
      "epoch 292, loss= 17.8223, acc= 0.719\n",
      "epoch 293, loss= 18.8684, acc= 0.766\n",
      "epoch 294, loss= 13.2883, acc= 0.812\n",
      "epoch 295, loss= 14.8473, acc= 0.711\n",
      "epoch 296, loss= 22.1556, acc= 0.656\n",
      "epoch 297, loss= 23.1002, acc= 0.719\n",
      "epoch 298, loss= 11.5696, acc= 0.734\n",
      "epoch 299, loss= 22.3776, acc= 0.719\n",
      "epoch 300, loss= 24.9559, acc= 0.695\n",
      "epoch 301, loss= 17.5769, acc= 0.711\n",
      "epoch 302, loss= 18.9988, acc= 0.719\n",
      "epoch 303, loss= 11.5531, acc= 0.789\n",
      "epoch 304, loss= 13.9708, acc= 0.727\n",
      "epoch 305, loss= 15.5182, acc= 0.719\n",
      "epoch 306, loss= 19.7528, acc= 0.688\n",
      "epoch 307, loss= 18.8011, acc= 0.742\n",
      "epoch 308, loss= 15.8810, acc= 0.734\n",
      "epoch 309, loss= 20.6825, acc= 0.656\n",
      "epoch 310, loss= 18.3187, acc= 0.688\n",
      "epoch 311, loss= 10.8592, acc= 0.766\n",
      "epoch 312, loss= 17.1299, acc= 0.688\n",
      "epoch 313, loss= 17.5272, acc= 0.758\n",
      "epoch 314, loss= 13.4076, acc= 0.742\n",
      "epoch 315, loss= 17.2032, acc= 0.750\n",
      "epoch 316, loss= 24.6779, acc= 0.703\n",
      "epoch 317, loss= 13.2362, acc= 0.773\n",
      "epoch 318, loss= 19.8892, acc= 0.758\n",
      "epoch 319, loss= 19.5716, acc= 0.641\n",
      "epoch 320, loss= 20.1905, acc= 0.766\n",
      "epoch 321, loss= 21.3588, acc= 0.602\n",
      "epoch 322, loss= 12.3797, acc= 0.781\n",
      "epoch 323, loss= 14.1960, acc= 0.734\n",
      "epoch 324, loss= 19.0242, acc= 0.695\n",
      "epoch 325, loss= 16.5122, acc= 0.688\n",
      "epoch 326, loss= 23.6405, acc= 0.711\n",
      "epoch 327, loss= 25.1746, acc= 0.719\n",
      "epoch 328, loss= 13.9734, acc= 0.727\n",
      "epoch 329, loss= 22.4062, acc= 0.648\n",
      "epoch 330, loss= 18.5235, acc= 0.742\n",
      "epoch 331, loss= 13.9090, acc= 0.703\n",
      "epoch 332, loss= 19.1735, acc= 0.734\n",
      "epoch 333, loss= 14.4353, acc= 0.719\n",
      "epoch 334, loss= 16.1474, acc= 0.719\n",
      "epoch 335, loss= 20.6121, acc= 0.703\n",
      "epoch 336, loss= 16.1979, acc= 0.680\n",
      "epoch 337, loss= 20.8632, acc= 0.680\n",
      "epoch 338, loss= 16.1566, acc= 0.742\n",
      "epoch 339, loss= 12.8495, acc= 0.719\n",
      "epoch 340, loss= 23.2678, acc= 0.672\n",
      "epoch 341, loss= 11.1787, acc= 0.812\n",
      "epoch 342, loss= 16.2937, acc= 0.711\n",
      "epoch 343, loss= 22.2657, acc= 0.672\n",
      "epoch 344, loss= 15.6105, acc= 0.758\n",
      "epoch 345, loss= 23.9172, acc= 0.664\n",
      "epoch 346, loss= 18.3056, acc= 0.758\n",
      "epoch 347, loss= 14.4702, acc= 0.750\n",
      "epoch 348, loss= 22.7120, acc= 0.680\n",
      "epoch 349, loss= 18.8659, acc= 0.711\n",
      "epoch 350, loss= 21.0215, acc= 0.703\n",
      "epoch 351, loss= 21.9072, acc= 0.711\n",
      "epoch 352, loss= 20.7840, acc= 0.719\n",
      "epoch 353, loss= 14.4460, acc= 0.734\n",
      "epoch 354, loss= 17.4731, acc= 0.672\n",
      "epoch 355, loss= 14.2096, acc= 0.742\n",
      "epoch 356, loss= 20.1718, acc= 0.656\n",
      "epoch 357, loss= 12.2324, acc= 0.781\n",
      "epoch 358, loss= 15.4701, acc= 0.742\n",
      "epoch 359, loss= 16.8433, acc= 0.711\n",
      "epoch 360, loss= 17.7615, acc= 0.695\n",
      "epoch 361, loss= 11.9814, acc= 0.766\n",
      "epoch 362, loss= 15.9404, acc= 0.750\n",
      "epoch 363, loss= 21.2680, acc= 0.703\n",
      "epoch 364, loss= 19.7427, acc= 0.680\n",
      "epoch 365, loss= 21.2471, acc= 0.648\n",
      "epoch 366, loss= 17.3199, acc= 0.719\n",
      "epoch 367, loss= 18.1497, acc= 0.711\n",
      "epoch 368, loss= 18.0621, acc= 0.672\n",
      "epoch 369, loss= 14.4458, acc= 0.781\n",
      "epoch 370, loss= 17.2215, acc= 0.734\n",
      "epoch 371, loss= 17.5522, acc= 0.719\n",
      "epoch 372, loss= 14.1257, acc= 0.750\n",
      "epoch 373, loss= 17.1445, acc= 0.719\n",
      "epoch 374, loss= 14.1395, acc= 0.758\n",
      "epoch 375, loss= 15.1414, acc= 0.742\n",
      "epoch 376, loss= 19.9755, acc= 0.688\n",
      "epoch 377, loss= 16.4593, acc= 0.734\n",
      "epoch 378, loss= 25.2118, acc= 0.656\n",
      "epoch 379, loss= 17.3734, acc= 0.766\n",
      "epoch 380, loss= 9.1030, acc= 0.820\n",
      "epoch 381, loss= 13.3904, acc= 0.734\n",
      "epoch 382, loss= 10.1410, acc= 0.781\n",
      "epoch 383, loss= 14.6380, acc= 0.805\n",
      "epoch 384, loss= 17.8415, acc= 0.703\n",
      "epoch 385, loss= 17.4935, acc= 0.781\n",
      "epoch 386, loss= 15.9703, acc= 0.688\n",
      "epoch 387, loss= 18.4295, acc= 0.719\n",
      "epoch 388, loss= 11.0130, acc= 0.797\n",
      "epoch 389, loss= 17.9844, acc= 0.695\n",
      "epoch 390, loss= 21.4976, acc= 0.672\n",
      "epoch 391, loss= 12.6500, acc= 0.758\n",
      "epoch 392, loss= 17.6318, acc= 0.773\n",
      "epoch 393, loss= 11.8091, acc= 0.719\n",
      "epoch 394, loss= 24.3076, acc= 0.695\n",
      "epoch 395, loss= 17.3026, acc= 0.664\n",
      "epoch 396, loss= 13.3682, acc= 0.727\n",
      "epoch 397, loss= 12.7390, acc= 0.766\n",
      "epoch 398, loss= 20.1562, acc= 0.641\n",
      "epoch 399, loss= 10.0597, acc= 0.781\n",
      "epoch 400, loss= 11.5324, acc= 0.781\n",
      "epoch 401, loss= 15.5215, acc= 0.750\n",
      "epoch 402, loss= 19.3194, acc= 0.711\n",
      "epoch 403, loss= 12.3187, acc= 0.773\n",
      "epoch 404, loss= 18.9940, acc= 0.711\n",
      "epoch 405, loss= 20.8794, acc= 0.664\n",
      "epoch 406, loss= 13.5247, acc= 0.703\n",
      "epoch 407, loss= 16.0060, acc= 0.727\n",
      "epoch 408, loss= 13.8744, acc= 0.734\n",
      "epoch 409, loss= 23.0601, acc= 0.688\n",
      "epoch 410, loss= 18.9708, acc= 0.695\n",
      "epoch 411, loss= 15.4603, acc= 0.766\n",
      "epoch 412, loss= 15.4428, acc= 0.727\n",
      "epoch 413, loss= 17.7447, acc= 0.664\n",
      "epoch 414, loss= 24.5740, acc= 0.719\n",
      "epoch 415, loss= 14.1334, acc= 0.727\n",
      "epoch 416, loss= 19.1633, acc= 0.695\n",
      "epoch 417, loss= 18.0051, acc= 0.703\n",
      "epoch 418, loss= 14.6183, acc= 0.742\n",
      "epoch 419, loss= 14.4052, acc= 0.727\n",
      "epoch 420, loss= 15.4183, acc= 0.750\n",
      "epoch 421, loss= 18.5301, acc= 0.742\n",
      "epoch 422, loss= 15.7514, acc= 0.758\n",
      "epoch 423, loss= 21.9584, acc= 0.656\n",
      "epoch 424, loss= 25.6770, acc= 0.664\n",
      "epoch 425, loss= 18.8421, acc= 0.703\n",
      "epoch 426, loss= 15.0351, acc= 0.711\n",
      "epoch 427, loss= 14.4153, acc= 0.781\n",
      "epoch 428, loss= 15.6153, acc= 0.766\n",
      "epoch 429, loss= 8.8086, acc= 0.773\n",
      "epoch 430, loss= 16.3106, acc= 0.719\n",
      "epoch 431, loss= 14.9039, acc= 0.734\n",
      "epoch 432, loss= 10.0059, acc= 0.805\n",
      "epoch 433, loss= 19.5021, acc= 0.672\n",
      "epoch 434, loss= 11.4935, acc= 0.797\n",
      "epoch 435, loss= 12.6017, acc= 0.789\n",
      "epoch 436, loss= 16.9635, acc= 0.766\n",
      "epoch 437, loss= 15.6234, acc= 0.750\n",
      "epoch 438, loss= 13.8874, acc= 0.766\n",
      "epoch 439, loss= 13.9450, acc= 0.742\n",
      "epoch 440, loss= 14.3363, acc= 0.711\n",
      "epoch 441, loss= 13.2561, acc= 0.719\n",
      "epoch 442, loss= 17.1184, acc= 0.734\n",
      "epoch 443, loss= 12.1690, acc= 0.750\n",
      "epoch 444, loss= 8.3813, acc= 0.766\n",
      "epoch 445, loss= 14.6249, acc= 0.766\n",
      "epoch 446, loss= 16.8408, acc= 0.758\n",
      "epoch 447, loss= 21.8870, acc= 0.680\n",
      "epoch 448, loss= 15.8114, acc= 0.711\n",
      "epoch 449, loss= 22.3929, acc= 0.680\n",
      "epoch 450, loss= 11.2369, acc= 0.844\n",
      "epoch 451, loss= 13.0719, acc= 0.805\n",
      "epoch 452, loss= 18.5561, acc= 0.734\n",
      "epoch 453, loss= 21.3506, acc= 0.711\n",
      "epoch 454, loss= 15.0146, acc= 0.734\n",
      "epoch 455, loss= 17.2958, acc= 0.758\n",
      "epoch 456, loss= 21.9341, acc= 0.703\n",
      "epoch 457, loss= 14.0077, acc= 0.719\n",
      "epoch 458, loss= 11.5222, acc= 0.711\n",
      "epoch 459, loss= 21.3055, acc= 0.664\n",
      "epoch 460, loss= 12.8254, acc= 0.727\n",
      "epoch 461, loss= 16.2466, acc= 0.789\n",
      "epoch 462, loss= 20.9963, acc= 0.648\n",
      "epoch 463, loss= 16.4436, acc= 0.773\n",
      "epoch 464, loss= 14.5526, acc= 0.703\n",
      "epoch 465, loss= 17.8139, acc= 0.695\n",
      "epoch 466, loss= 22.6629, acc= 0.633\n",
      "epoch 467, loss= 12.2695, acc= 0.758\n",
      "epoch 468, loss= 14.3329, acc= 0.750\n",
      "epoch 469, loss= 17.1771, acc= 0.672\n",
      "epoch 470, loss= 18.1203, acc= 0.680\n",
      "epoch 471, loss= 13.9362, acc= 0.750\n",
      "epoch 472, loss= 13.7579, acc= 0.711\n",
      "epoch 473, loss= 15.7548, acc= 0.719\n",
      "epoch 474, loss= 18.2034, acc= 0.734\n",
      "epoch 475, loss= 16.9812, acc= 0.711\n",
      "epoch 476, loss= 15.9655, acc= 0.727\n",
      "epoch 477, loss= 11.6818, acc= 0.742\n",
      "epoch 478, loss= 15.7219, acc= 0.711\n",
      "epoch 479, loss= 17.0486, acc= 0.711\n",
      "epoch 480, loss= 17.6077, acc= 0.688\n",
      "epoch 481, loss= 16.8440, acc= 0.734\n",
      "epoch 482, loss= 17.9091, acc= 0.727\n",
      "epoch 483, loss= 12.8686, acc= 0.742\n",
      "epoch 484, loss= 13.6537, acc= 0.766\n",
      "epoch 485, loss= 10.5219, acc= 0.742\n",
      "epoch 486, loss= 9.7655, acc= 0.789\n",
      "epoch 487, loss= 17.4691, acc= 0.750\n",
      "epoch 488, loss= 12.9386, acc= 0.734\n",
      "epoch 489, loss= 14.8957, acc= 0.742\n",
      "epoch 490, loss= 24.1579, acc= 0.734\n",
      "epoch 491, loss= 12.0615, acc= 0.766\n",
      "epoch 492, loss= 7.3871, acc= 0.836\n",
      "epoch 493, loss= 19.1072, acc= 0.672\n",
      "epoch 494, loss= 14.6011, acc= 0.773\n",
      "epoch 495, loss= 21.5070, acc= 0.688\n",
      "epoch 496, loss= 15.9182, acc= 0.766\n",
      "epoch 497, loss= 11.4656, acc= 0.781\n",
      "epoch 498, loss= 8.6545, acc= 0.797\n",
      "epoch 499, loss= 10.6064, acc= 0.797\n",
      "epoch 500, loss= 13.0182, acc= 0.703\n",
      "epoch 501, loss= 12.6658, acc= 0.695\n",
      "epoch 502, loss= 13.5870, acc= 0.719\n",
      "epoch 503, loss= 15.5992, acc= 0.742\n",
      "epoch 504, loss= 14.7304, acc= 0.758\n",
      "epoch 505, loss= 13.1450, acc= 0.766\n",
      "epoch 506, loss= 14.5784, acc= 0.719\n",
      "epoch 507, loss= 19.5588, acc= 0.688\n",
      "epoch 508, loss= 18.4631, acc= 0.734\n",
      "epoch 509, loss= 16.4063, acc= 0.711\n",
      "epoch 510, loss= 13.1451, acc= 0.758\n",
      "epoch 511, loss= 16.6000, acc= 0.695\n",
      "epoch 512, loss= 11.7336, acc= 0.773\n",
      "epoch 513, loss= 16.3195, acc= 0.773\n",
      "epoch 514, loss= 18.1817, acc= 0.734\n",
      "epoch 515, loss= 10.9443, acc= 0.766\n",
      "epoch 516, loss= 17.4359, acc= 0.727\n",
      "epoch 517, loss= 14.5249, acc= 0.703\n",
      "epoch 518, loss= 14.1508, acc= 0.750\n",
      "epoch 519, loss= 13.1488, acc= 0.734\n",
      "epoch 520, loss= 14.6859, acc= 0.680\n",
      "epoch 521, loss= 14.1709, acc= 0.734\n",
      "epoch 522, loss= 13.8988, acc= 0.750\n",
      "epoch 523, loss= 17.4249, acc= 0.711\n",
      "epoch 524, loss= 15.5493, acc= 0.781\n",
      "epoch 525, loss= 22.5477, acc= 0.734\n",
      "epoch 526, loss= 19.8160, acc= 0.703\n",
      "epoch 527, loss= 15.5341, acc= 0.703\n",
      "epoch 528, loss= 11.8528, acc= 0.797\n",
      "epoch 529, loss= 15.4023, acc= 0.742\n",
      "epoch 530, loss= 10.9673, acc= 0.812\n",
      "epoch 531, loss= 16.5802, acc= 0.695\n",
      "epoch 532, loss= 11.3772, acc= 0.789\n",
      "epoch 533, loss= 19.2288, acc= 0.711\n",
      "epoch 534, loss= 17.1046, acc= 0.727\n",
      "epoch 535, loss= 15.5759, acc= 0.711\n",
      "epoch 536, loss= 8.7279, acc= 0.805\n",
      "epoch 537, loss= 15.9789, acc= 0.727\n",
      "epoch 538, loss= 12.4606, acc= 0.766\n",
      "epoch 539, loss= 11.6635, acc= 0.727\n",
      "epoch 540, loss= 16.4370, acc= 0.734\n",
      "epoch 541, loss= 17.3738, acc= 0.719\n",
      "epoch 542, loss= 16.2926, acc= 0.742\n",
      "epoch 543, loss= 18.4363, acc= 0.750\n",
      "epoch 544, loss= 16.6978, acc= 0.719\n",
      "epoch 545, loss= 14.9688, acc= 0.805\n",
      "epoch 546, loss= 21.0454, acc= 0.680\n",
      "epoch 547, loss= 11.1867, acc= 0.734\n",
      "epoch 548, loss= 15.2573, acc= 0.734\n",
      "epoch 549, loss= 15.2360, acc= 0.742\n",
      "epoch 550, loss= 14.0794, acc= 0.680\n",
      "epoch 551, loss= 9.8671, acc= 0.828\n",
      "epoch 552, loss= 16.0506, acc= 0.719\n",
      "epoch 553, loss= 19.0764, acc= 0.656\n",
      "epoch 554, loss= 17.3738, acc= 0.711\n",
      "epoch 555, loss= 6.0823, acc= 0.836\n",
      "epoch 556, loss= 10.3123, acc= 0.805\n",
      "epoch 557, loss= 11.9020, acc= 0.789\n",
      "epoch 558, loss= 13.1729, acc= 0.766\n",
      "epoch 559, loss= 14.6621, acc= 0.742\n",
      "epoch 560, loss= 12.5657, acc= 0.789\n",
      "epoch 561, loss= 11.5974, acc= 0.805\n",
      "epoch 562, loss= 8.2765, acc= 0.789\n",
      "epoch 563, loss= 13.3760, acc= 0.734\n",
      "epoch 564, loss= 14.8756, acc= 0.727\n",
      "epoch 565, loss= 17.5656, acc= 0.750\n",
      "epoch 566, loss= 10.7154, acc= 0.805\n",
      "epoch 567, loss= 9.2061, acc= 0.812\n",
      "epoch 568, loss= 12.2581, acc= 0.719\n",
      "epoch 569, loss= 12.2001, acc= 0.789\n",
      "epoch 570, loss= 14.0342, acc= 0.719\n",
      "epoch 571, loss= 16.8253, acc= 0.727\n",
      "epoch 572, loss= 9.7115, acc= 0.797\n",
      "epoch 573, loss= 12.1499, acc= 0.812\n",
      "epoch 574, loss= 10.3009, acc= 0.805\n",
      "epoch 575, loss= 11.5183, acc= 0.812\n",
      "epoch 576, loss= 8.6926, acc= 0.805\n",
      "epoch 577, loss= 15.0314, acc= 0.680\n",
      "epoch 578, loss= 14.8353, acc= 0.734\n",
      "epoch 579, loss= 11.9346, acc= 0.773\n",
      "epoch 580, loss= 11.4862, acc= 0.781\n",
      "epoch 581, loss= 19.8665, acc= 0.648\n",
      "epoch 582, loss= 13.7767, acc= 0.750\n",
      "epoch 583, loss= 17.8663, acc= 0.703\n",
      "epoch 584, loss= 13.0869, acc= 0.781\n",
      "epoch 585, loss= 15.5354, acc= 0.734\n",
      "epoch 586, loss= 9.3414, acc= 0.820\n",
      "epoch 587, loss= 9.6902, acc= 0.773\n",
      "epoch 588, loss= 7.6810, acc= 0.836\n",
      "epoch 589, loss= 11.7663, acc= 0.758\n",
      "epoch 590, loss= 9.1919, acc= 0.766\n",
      "epoch 591, loss= 13.2387, acc= 0.773\n",
      "epoch 592, loss= 26.8698, acc= 0.648\n",
      "epoch 593, loss= 18.3282, acc= 0.688\n",
      "epoch 594, loss= 14.2060, acc= 0.711\n",
      "epoch 595, loss= 13.1669, acc= 0.742\n",
      "epoch 596, loss= 11.3904, acc= 0.742\n",
      "epoch 597, loss= 19.6611, acc= 0.672\n",
      "epoch 598, loss= 12.5786, acc= 0.789\n",
      "epoch 599, loss= 9.4041, acc= 0.812\n",
      "epoch 600, loss= 12.1217, acc= 0.758\n",
      "epoch 601, loss= 24.6284, acc= 0.664\n",
      "epoch 602, loss= 15.6232, acc= 0.750\n",
      "epoch 603, loss= 11.3186, acc= 0.773\n",
      "epoch 604, loss= 15.4394, acc= 0.719\n",
      "epoch 605, loss= 16.1429, acc= 0.734\n",
      "epoch 606, loss= 16.9556, acc= 0.672\n",
      "epoch 607, loss= 8.8370, acc= 0.812\n",
      "epoch 608, loss= 17.3820, acc= 0.664\n",
      "epoch 609, loss= 15.7134, acc= 0.758\n",
      "epoch 610, loss= 15.0250, acc= 0.781\n",
      "epoch 611, loss= 13.7969, acc= 0.766\n",
      "epoch 612, loss= 12.3850, acc= 0.742\n",
      "epoch 613, loss= 16.7020, acc= 0.719\n",
      "epoch 614, loss= 15.6000, acc= 0.789\n",
      "epoch 615, loss= 18.8512, acc= 0.719\n",
      "epoch 616, loss= 6.8594, acc= 0.828\n",
      "epoch 617, loss= 13.0573, acc= 0.766\n",
      "epoch 618, loss= 11.4628, acc= 0.789\n",
      "epoch 619, loss= 14.7100, acc= 0.758\n",
      "epoch 620, loss= 17.4257, acc= 0.703\n",
      "epoch 621, loss= 10.5548, acc= 0.750\n",
      "epoch 622, loss= 11.4807, acc= 0.773\n",
      "epoch 623, loss= 12.0823, acc= 0.766\n",
      "epoch 624, loss= 10.1750, acc= 0.766\n",
      "epoch 625, loss= 15.5070, acc= 0.781\n",
      "epoch 626, loss= 13.9023, acc= 0.742\n",
      "epoch 627, loss= 11.1065, acc= 0.797\n",
      "epoch 628, loss= 11.2737, acc= 0.789\n",
      "epoch 629, loss= 13.7497, acc= 0.781\n",
      "epoch 630, loss= 15.1490, acc= 0.719\n",
      "epoch 631, loss= 15.4895, acc= 0.719\n",
      "epoch 632, loss= 12.6670, acc= 0.742\n",
      "epoch 633, loss= 15.0265, acc= 0.805\n",
      "epoch 634, loss= 14.9727, acc= 0.703\n",
      "epoch 635, loss= 17.8956, acc= 0.727\n",
      "epoch 636, loss= 12.8379, acc= 0.805\n",
      "epoch 637, loss= 19.2024, acc= 0.742\n",
      "epoch 638, loss= 15.6997, acc= 0.719\n",
      "epoch 639, loss= 8.8079, acc= 0.797\n",
      "epoch 640, loss= 11.0296, acc= 0.781\n",
      "epoch 641, loss= 20.7563, acc= 0.648\n",
      "epoch 642, loss= 9.1179, acc= 0.773\n",
      "epoch 643, loss= 15.2282, acc= 0.734\n",
      "epoch 644, loss= 13.6353, acc= 0.758\n",
      "epoch 645, loss= 8.3909, acc= 0.789\n",
      "epoch 646, loss= 8.2943, acc= 0.812\n",
      "epoch 647, loss= 8.7968, acc= 0.805\n",
      "epoch 648, loss= 14.8555, acc= 0.734\n",
      "epoch 649, loss= 11.7615, acc= 0.781\n",
      "epoch 650, loss= 10.0949, acc= 0.797\n",
      "epoch 651, loss= 12.6500, acc= 0.734\n",
      "epoch 652, loss= 11.1032, acc= 0.766\n",
      "epoch 653, loss= 16.0045, acc= 0.703\n",
      "epoch 654, loss= 17.8371, acc= 0.734\n",
      "epoch 655, loss= 14.4450, acc= 0.734\n",
      "epoch 656, loss= 11.0290, acc= 0.844\n",
      "epoch 657, loss= 14.5661, acc= 0.758\n",
      "epoch 658, loss= 13.3993, acc= 0.742\n",
      "epoch 659, loss= 18.1263, acc= 0.727\n",
      "epoch 660, loss= 13.8393, acc= 0.680\n",
      "epoch 661, loss= 13.3719, acc= 0.797\n",
      "epoch 662, loss= 17.1649, acc= 0.719\n",
      "epoch 663, loss= 14.6420, acc= 0.750\n",
      "epoch 664, loss= 8.5021, acc= 0.812\n",
      "epoch 665, loss= 13.8435, acc= 0.766\n",
      "epoch 666, loss= 15.3123, acc= 0.719\n",
      "epoch 667, loss= 7.7391, acc= 0.859\n",
      "epoch 668, loss= 16.3144, acc= 0.703\n",
      "epoch 669, loss= 10.2370, acc= 0.766\n",
      "epoch 670, loss= 13.2406, acc= 0.742\n",
      "epoch 671, loss= 10.7314, acc= 0.742\n",
      "epoch 672, loss= 12.4679, acc= 0.805\n",
      "epoch 673, loss= 16.1471, acc= 0.727\n",
      "epoch 674, loss= 12.0862, acc= 0.758\n",
      "epoch 675, loss= 14.9688, acc= 0.742\n",
      "epoch 676, loss= 16.4133, acc= 0.727\n",
      "epoch 677, loss= 10.9104, acc= 0.781\n",
      "epoch 678, loss= 20.7924, acc= 0.688\n",
      "epoch 679, loss= 11.9041, acc= 0.773\n",
      "epoch 680, loss= 13.0830, acc= 0.727\n",
      "epoch 681, loss= 12.6716, acc= 0.719\n",
      "epoch 682, loss= 10.5027, acc= 0.805\n",
      "epoch 683, loss= 14.4488, acc= 0.719\n",
      "epoch 684, loss= 11.6729, acc= 0.789\n",
      "epoch 685, loss= 11.0878, acc= 0.781\n",
      "epoch 686, loss= 14.0680, acc= 0.742\n",
      "epoch 687, loss= 18.6647, acc= 0.688\n",
      "epoch 688, loss= 12.2543, acc= 0.758\n",
      "epoch 689, loss= 9.0067, acc= 0.773\n",
      "epoch 690, loss= 13.4289, acc= 0.773\n",
      "epoch 691, loss= 18.9393, acc= 0.711\n",
      "epoch 692, loss= 16.8068, acc= 0.672\n",
      "epoch 693, loss= 14.3132, acc= 0.734\n",
      "epoch 694, loss= 8.8840, acc= 0.750\n",
      "epoch 695, loss= 15.1471, acc= 0.727\n",
      "epoch 696, loss= 13.1553, acc= 0.727\n",
      "epoch 697, loss= 14.4889, acc= 0.750\n",
      "epoch 698, loss= 15.0825, acc= 0.711\n",
      "epoch 699, loss= 15.9364, acc= 0.703\n",
      "epoch 700, loss= 13.8657, acc= 0.727\n",
      "epoch 701, loss= 11.6116, acc= 0.742\n",
      "epoch 702, loss= 6.1741, acc= 0.797\n",
      "epoch 703, loss= 14.9481, acc= 0.773\n",
      "epoch 704, loss= 15.8613, acc= 0.695\n",
      "epoch 705, loss= 12.2381, acc= 0.773\n",
      "epoch 706, loss= 14.7795, acc= 0.680\n",
      "epoch 707, loss= 11.3487, acc= 0.773\n",
      "epoch 708, loss= 10.5992, acc= 0.734\n",
      "epoch 709, loss= 13.7717, acc= 0.766\n",
      "epoch 710, loss= 8.9928, acc= 0.805\n",
      "epoch 711, loss= 11.8572, acc= 0.758\n",
      "epoch 712, loss= 13.8571, acc= 0.742\n",
      "epoch 713, loss= 11.0718, acc= 0.758\n",
      "epoch 714, loss= 7.2968, acc= 0.852\n",
      "epoch 715, loss= 9.7415, acc= 0.805\n",
      "epoch 716, loss= 11.0044, acc= 0.758\n",
      "epoch 717, loss= 13.1566, acc= 0.805\n",
      "epoch 718, loss= 14.8747, acc= 0.750\n",
      "epoch 719, loss= 13.0258, acc= 0.766\n",
      "epoch 720, loss= 11.2287, acc= 0.766\n",
      "epoch 721, loss= 20.2520, acc= 0.727\n",
      "epoch 722, loss= 11.8001, acc= 0.742\n",
      "epoch 723, loss= 10.5801, acc= 0.789\n",
      "epoch 724, loss= 13.3842, acc= 0.766\n",
      "epoch 725, loss= 8.6367, acc= 0.812\n",
      "epoch 726, loss= 15.1369, acc= 0.680\n",
      "epoch 727, loss= 15.6611, acc= 0.766\n",
      "epoch 728, loss= 13.6624, acc= 0.711\n",
      "epoch 729, loss= 9.3417, acc= 0.867\n",
      "epoch 730, loss= 14.3223, acc= 0.703\n",
      "epoch 731, loss= 20.8718, acc= 0.727\n",
      "epoch 732, loss= 12.0590, acc= 0.812\n",
      "epoch 733, loss= 13.9991, acc= 0.695\n",
      "epoch 734, loss= 24.1053, acc= 0.703\n",
      "epoch 735, loss= 14.9729, acc= 0.727\n",
      "epoch 736, loss= 12.9754, acc= 0.742\n",
      "epoch 737, loss= 13.2152, acc= 0.758\n",
      "epoch 738, loss= 12.0457, acc= 0.773\n",
      "epoch 739, loss= 14.3704, acc= 0.727\n",
      "epoch 740, loss= 13.4176, acc= 0.727\n",
      "epoch 741, loss= 16.0917, acc= 0.703\n",
      "epoch 742, loss= 14.7029, acc= 0.695\n",
      "epoch 743, loss= 12.0965, acc= 0.750\n",
      "epoch 744, loss= 12.2454, acc= 0.781\n",
      "epoch 745, loss= 13.5979, acc= 0.758\n",
      "epoch 746, loss= 13.1419, acc= 0.758\n",
      "epoch 747, loss= 9.9466, acc= 0.812\n",
      "epoch 748, loss= 9.6208, acc= 0.773\n",
      "epoch 749, loss= 16.9599, acc= 0.742\n",
      "epoch 750, loss= 11.3943, acc= 0.789\n",
      "epoch 751, loss= 9.9006, acc= 0.742\n",
      "epoch 752, loss= 15.6955, acc= 0.797\n",
      "epoch 753, loss= 10.1169, acc= 0.758\n",
      "epoch 754, loss= 13.7278, acc= 0.734\n",
      "epoch 755, loss= 10.9359, acc= 0.812\n",
      "epoch 756, loss= 10.2863, acc= 0.758\n",
      "epoch 757, loss= 13.1222, acc= 0.781\n",
      "epoch 758, loss= 14.1876, acc= 0.758\n",
      "epoch 759, loss= 12.0724, acc= 0.758\n",
      "epoch 760, loss= 10.9289, acc= 0.750\n",
      "epoch 761, loss= 11.0338, acc= 0.766\n",
      "epoch 762, loss= 12.6096, acc= 0.703\n",
      "epoch 763, loss= 8.2163, acc= 0.781\n",
      "epoch 764, loss= 7.4584, acc= 0.797\n",
      "epoch 765, loss= 13.8384, acc= 0.789\n",
      "epoch 766, loss= 16.1557, acc= 0.727\n",
      "epoch 767, loss= 10.3290, acc= 0.766\n",
      "epoch 768, loss= 10.8578, acc= 0.797\n",
      "epoch 769, loss= 8.5706, acc= 0.781\n",
      "epoch 770, loss= 14.5449, acc= 0.695\n",
      "epoch 771, loss= 12.1783, acc= 0.766\n",
      "epoch 772, loss= 16.7070, acc= 0.742\n",
      "epoch 773, loss= 10.8284, acc= 0.727\n",
      "epoch 774, loss= 13.1088, acc= 0.789\n",
      "epoch 775, loss= 12.4076, acc= 0.758\n",
      "epoch 776, loss= 10.0299, acc= 0.812\n",
      "epoch 777, loss= 16.8434, acc= 0.758\n",
      "epoch 778, loss= 11.3193, acc= 0.781\n",
      "epoch 779, loss= 12.4209, acc= 0.758\n",
      "epoch 780, loss= 11.2812, acc= 0.789\n",
      "epoch 781, loss= 15.1955, acc= 0.734\n",
      "epoch 782, loss= 12.8588, acc= 0.789\n",
      "epoch 783, loss= 14.4789, acc= 0.734\n",
      "epoch 784, loss= 14.3627, acc= 0.719\n",
      "epoch 785, loss= 13.4665, acc= 0.750\n",
      "epoch 786, loss= 12.4729, acc= 0.789\n",
      "epoch 787, loss= 13.4032, acc= 0.750\n",
      "epoch 788, loss= 9.3464, acc= 0.820\n",
      "epoch 789, loss= 13.5823, acc= 0.758\n",
      "epoch 790, loss= 15.5608, acc= 0.758\n",
      "epoch 791, loss= 6.6397, acc= 0.859\n",
      "epoch 792, loss= 8.4661, acc= 0.789\n",
      "epoch 793, loss= 13.2822, acc= 0.711\n",
      "epoch 794, loss= 7.1490, acc= 0.805\n",
      "epoch 795, loss= 9.3458, acc= 0.812\n",
      "epoch 796, loss= 14.1217, acc= 0.766\n",
      "epoch 797, loss= 11.8463, acc= 0.812\n",
      "epoch 798, loss= 11.4899, acc= 0.719\n",
      "epoch 799, loss= 12.1029, acc= 0.766\n",
      "epoch 800, loss= 11.7463, acc= 0.781\n",
      "epoch 801, loss= 7.4526, acc= 0.820\n",
      "epoch 802, loss= 13.8565, acc= 0.734\n",
      "epoch 803, loss= 14.0776, acc= 0.727\n",
      "epoch 804, loss= 15.5589, acc= 0.734\n",
      "epoch 805, loss= 16.6614, acc= 0.750\n",
      "epoch 806, loss= 18.1310, acc= 0.656\n",
      "epoch 807, loss= 3.2248, acc= 0.852\n",
      "epoch 808, loss= 12.1442, acc= 0.766\n",
      "epoch 809, loss= 8.9579, acc= 0.820\n",
      "epoch 810, loss= 12.7943, acc= 0.703\n",
      "epoch 811, loss= 6.4521, acc= 0.828\n",
      "epoch 812, loss= 12.8285, acc= 0.820\n",
      "epoch 813, loss= 13.3745, acc= 0.773\n",
      "epoch 814, loss= 16.2677, acc= 0.688\n",
      "epoch 815, loss= 11.2014, acc= 0.766\n",
      "epoch 816, loss= 17.6194, acc= 0.695\n",
      "epoch 817, loss= 8.5226, acc= 0.789\n",
      "epoch 818, loss= 9.2787, acc= 0.836\n",
      "epoch 819, loss= 8.1438, acc= 0.820\n",
      "epoch 820, loss= 10.5582, acc= 0.742\n",
      "epoch 821, loss= 11.1956, acc= 0.789\n",
      "epoch 822, loss= 16.5082, acc= 0.734\n",
      "epoch 823, loss= 5.2672, acc= 0.828\n",
      "epoch 824, loss= 14.9183, acc= 0.672\n",
      "epoch 825, loss= 11.0367, acc= 0.797\n",
      "epoch 826, loss= 10.5699, acc= 0.773\n",
      "epoch 827, loss= 9.4011, acc= 0.805\n",
      "epoch 828, loss= 13.4066, acc= 0.734\n",
      "epoch 829, loss= 12.2650, acc= 0.727\n",
      "epoch 830, loss= 11.0672, acc= 0.734\n",
      "epoch 831, loss= 11.4104, acc= 0.781\n",
      "epoch 832, loss= 14.0010, acc= 0.734\n",
      "epoch 833, loss= 19.5852, acc= 0.766\n",
      "epoch 834, loss= 13.8491, acc= 0.750\n",
      "epoch 835, loss= 13.4692, acc= 0.734\n",
      "epoch 836, loss= 9.2596, acc= 0.766\n",
      "epoch 837, loss= 11.7115, acc= 0.742\n",
      "epoch 838, loss= 14.4625, acc= 0.742\n",
      "epoch 839, loss= 14.4918, acc= 0.766\n",
      "epoch 840, loss= 10.7316, acc= 0.773\n",
      "epoch 841, loss= 10.7848, acc= 0.766\n",
      "epoch 842, loss= 7.6042, acc= 0.773\n",
      "epoch 843, loss= 11.3521, acc= 0.727\n",
      "epoch 844, loss= 12.4741, acc= 0.773\n",
      "epoch 845, loss= 7.9346, acc= 0.805\n",
      "epoch 846, loss= 14.2193, acc= 0.734\n",
      "epoch 847, loss= 15.5155, acc= 0.711\n",
      "epoch 848, loss= 12.1094, acc= 0.766\n",
      "epoch 849, loss= 13.4844, acc= 0.758\n",
      "epoch 850, loss= 10.9849, acc= 0.812\n",
      "epoch 851, loss= 13.4574, acc= 0.727\n",
      "epoch 852, loss= 12.5262, acc= 0.781\n",
      "epoch 853, loss= 15.2501, acc= 0.719\n",
      "epoch 854, loss= 9.1058, acc= 0.812\n",
      "epoch 855, loss= 13.9762, acc= 0.734\n",
      "epoch 856, loss= 9.4445, acc= 0.805\n",
      "epoch 857, loss= 14.0356, acc= 0.719\n",
      "epoch 858, loss= 9.0660, acc= 0.758\n",
      "epoch 859, loss= 6.7939, acc= 0.820\n",
      "epoch 860, loss= 10.6880, acc= 0.812\n",
      "epoch 861, loss= 11.9593, acc= 0.828\n",
      "epoch 862, loss= 10.2491, acc= 0.805\n",
      "epoch 863, loss= 14.1477, acc= 0.781\n",
      "epoch 864, loss= 11.4507, acc= 0.789\n",
      "epoch 865, loss= 9.0698, acc= 0.789\n",
      "epoch 866, loss= 15.0106, acc= 0.734\n",
      "epoch 867, loss= 6.4184, acc= 0.773\n",
      "epoch 868, loss= 15.0145, acc= 0.797\n",
      "epoch 869, loss= 9.9735, acc= 0.797\n",
      "epoch 870, loss= 11.1813, acc= 0.766\n",
      "epoch 871, loss= 10.2528, acc= 0.773\n",
      "epoch 872, loss= 12.4053, acc= 0.719\n",
      "epoch 873, loss= 10.5280, acc= 0.797\n",
      "epoch 874, loss= 15.1087, acc= 0.742\n",
      "epoch 875, loss= 12.8118, acc= 0.750\n",
      "epoch 876, loss= 14.9112, acc= 0.750\n",
      "epoch 877, loss= 10.2318, acc= 0.812\n",
      "epoch 878, loss= 8.7106, acc= 0.828\n",
      "epoch 879, loss= 11.0380, acc= 0.758\n",
      "epoch 880, loss= 12.5782, acc= 0.750\n",
      "epoch 881, loss= 11.2735, acc= 0.734\n",
      "epoch 882, loss= 11.8516, acc= 0.789\n",
      "epoch 883, loss= 9.7849, acc= 0.773\n",
      "epoch 884, loss= 9.7512, acc= 0.758\n",
      "epoch 885, loss= 11.5193, acc= 0.758\n",
      "epoch 886, loss= 10.6716, acc= 0.727\n",
      "epoch 887, loss= 14.7744, acc= 0.758\n",
      "epoch 888, loss= 14.2754, acc= 0.742\n",
      "epoch 889, loss= 11.9314, acc= 0.805\n",
      "epoch 890, loss= 15.5413, acc= 0.766\n",
      "epoch 891, loss= 7.2931, acc= 0.852\n",
      "epoch 892, loss= 9.3838, acc= 0.789\n",
      "epoch 893, loss= 14.7806, acc= 0.742\n",
      "epoch 894, loss= 14.9007, acc= 0.781\n",
      "epoch 895, loss= 14.7381, acc= 0.727\n",
      "epoch 896, loss= 7.8988, acc= 0.734\n",
      "epoch 897, loss= 11.8495, acc= 0.773\n",
      "epoch 898, loss= 15.1761, acc= 0.773\n",
      "epoch 899, loss= 20.3009, acc= 0.734\n",
      "epoch 900, loss= 5.9856, acc= 0.742\n",
      "epoch 901, loss= 10.5245, acc= 0.758\n",
      "epoch 902, loss= 16.1560, acc= 0.766\n",
      "epoch 903, loss= 10.6853, acc= 0.742\n",
      "epoch 904, loss= 9.4161, acc= 0.711\n",
      "epoch 905, loss= 13.8812, acc= 0.750\n",
      "epoch 906, loss= 7.8634, acc= 0.836\n",
      "epoch 907, loss= 9.7096, acc= 0.781\n",
      "epoch 908, loss= 12.6810, acc= 0.734\n",
      "epoch 909, loss= 8.3853, acc= 0.773\n",
      "epoch 910, loss= 10.0286, acc= 0.742\n",
      "epoch 911, loss= 12.4786, acc= 0.766\n",
      "epoch 912, loss= 17.5866, acc= 0.734\n",
      "epoch 913, loss= 12.1363, acc= 0.719\n",
      "epoch 914, loss= 10.3053, acc= 0.781\n",
      "epoch 915, loss= 11.0083, acc= 0.820\n",
      "epoch 916, loss= 9.3194, acc= 0.766\n",
      "epoch 917, loss= 12.9038, acc= 0.695\n",
      "epoch 918, loss= 18.5735, acc= 0.750\n",
      "epoch 919, loss= 10.8534, acc= 0.797\n",
      "epoch 920, loss= 7.3161, acc= 0.789\n",
      "epoch 921, loss= 18.2555, acc= 0.766\n",
      "epoch 922, loss= 9.5566, acc= 0.773\n",
      "epoch 923, loss= 13.5235, acc= 0.703\n",
      "epoch 924, loss= 12.2632, acc= 0.719\n",
      "epoch 925, loss= 9.3478, acc= 0.758\n",
      "epoch 926, loss= 7.1957, acc= 0.758\n",
      "epoch 927, loss= 7.8061, acc= 0.805\n",
      "epoch 928, loss= 10.4696, acc= 0.781\n",
      "epoch 929, loss= 9.5727, acc= 0.766\n",
      "epoch 930, loss= 12.2599, acc= 0.750\n",
      "epoch 931, loss= 8.7398, acc= 0.797\n",
      "epoch 932, loss= 13.8429, acc= 0.758\n",
      "epoch 933, loss= 10.4566, acc= 0.750\n",
      "epoch 934, loss= 6.7904, acc= 0.773\n",
      "epoch 935, loss= 13.6780, acc= 0.781\n",
      "epoch 936, loss= 9.7171, acc= 0.844\n",
      "epoch 937, loss= 18.2587, acc= 0.734\n",
      "epoch 938, loss= 11.1788, acc= 0.805\n",
      "epoch 939, loss= 12.8508, acc= 0.734\n",
      "epoch 940, loss= 10.1343, acc= 0.797\n",
      "epoch 941, loss= 8.0392, acc= 0.758\n",
      "epoch 942, loss= 17.7292, acc= 0.750\n",
      "epoch 943, loss= 10.4417, acc= 0.789\n",
      "epoch 944, loss= 11.0990, acc= 0.773\n",
      "epoch 945, loss= 12.9143, acc= 0.750\n",
      "epoch 946, loss= 13.4303, acc= 0.734\n",
      "epoch 947, loss= 13.5841, acc= 0.766\n",
      "epoch 948, loss= 7.7639, acc= 0.789\n",
      "epoch 949, loss= 11.8142, acc= 0.781\n",
      "epoch 950, loss= 10.5485, acc= 0.805\n",
      "epoch 951, loss= 11.3358, acc= 0.742\n",
      "epoch 952, loss= 11.6169, acc= 0.758\n",
      "epoch 953, loss= 7.3375, acc= 0.836\n",
      "epoch 954, loss= 13.7266, acc= 0.742\n",
      "epoch 955, loss= 6.6325, acc= 0.836\n",
      "epoch 956, loss= 11.9923, acc= 0.773\n",
      "epoch 957, loss= 15.8890, acc= 0.719\n",
      "epoch 958, loss= 11.6429, acc= 0.805\n",
      "epoch 959, loss= 14.7764, acc= 0.734\n",
      "epoch 960, loss= 12.9774, acc= 0.781\n",
      "epoch 961, loss= 11.5704, acc= 0.797\n",
      "epoch 962, loss= 11.6384, acc= 0.750\n",
      "epoch 963, loss= 10.6492, acc= 0.758\n",
      "epoch 964, loss= 11.4282, acc= 0.750\n",
      "epoch 965, loss= 11.8168, acc= 0.758\n",
      "epoch 966, loss= 10.0724, acc= 0.812\n",
      "epoch 967, loss= 9.7882, acc= 0.805\n",
      "epoch 968, loss= 8.3204, acc= 0.820\n",
      "epoch 969, loss= 9.1749, acc= 0.773\n",
      "epoch 970, loss= 9.7885, acc= 0.805\n",
      "epoch 971, loss= 12.2052, acc= 0.750\n",
      "epoch 972, loss= 9.5183, acc= 0.766\n",
      "epoch 973, loss= 10.0176, acc= 0.734\n",
      "epoch 974, loss= 9.1151, acc= 0.773\n",
      "epoch 975, loss= 4.2142, acc= 0.867\n",
      "epoch 976, loss= 8.5540, acc= 0.805\n",
      "epoch 977, loss= 10.0850, acc= 0.773\n",
      "epoch 978, loss= 7.8126, acc= 0.773\n",
      "epoch 979, loss= 12.4907, acc= 0.773\n",
      "epoch 980, loss= 8.6493, acc= 0.836\n",
      "epoch 981, loss= 10.0494, acc= 0.797\n",
      "epoch 982, loss= 9.5381, acc= 0.781\n",
      "epoch 983, loss= 20.5629, acc= 0.750\n",
      "epoch 984, loss= 8.6482, acc= 0.812\n",
      "epoch 985, loss= 15.0704, acc= 0.812\n",
      "epoch 986, loss= 8.3322, acc= 0.820\n",
      "epoch 987, loss= 8.0449, acc= 0.789\n",
      "epoch 988, loss= 11.9427, acc= 0.750\n",
      "epoch 989, loss= 10.0997, acc= 0.797\n",
      "epoch 990, loss= 13.2866, acc= 0.742\n",
      "epoch 991, loss= 11.4792, acc= 0.750\n",
      "epoch 992, loss= 11.6310, acc= 0.797\n",
      "epoch 993, loss= 13.2745, acc= 0.781\n",
      "epoch 994, loss= 11.6468, acc= 0.766\n",
      "epoch 995, loss= 13.1853, acc= 0.742\n",
      "epoch 996, loss= 8.1732, acc= 0.820\n",
      "epoch 997, loss= 6.2095, acc= 0.812\n",
      "epoch 998, loss= 10.0989, acc= 0.781\n",
      "epoch 999, loss= 8.6195, acc= 0.805\n",
      "test acc=12.3190\n",
      "test acc=0.760\n"
     ]
    }
   ],
   "source": [
    "with tf.Session() as sess:\n",
    "    sess.run(init)\n",
    "    acc_save=[]\n",
    "    for epoch in range(training_steps):\n",
    "        xbatch, ybatch = next_batch(batch_size, x_train, y_train)\n",
    "        sess.run(Optimizer, feed_dict={X: xbatch, Y: ybatch})\n",
    "\n",
    "        loss, acc = sess.run([Loss_logistic, accrancy_logistic], feed_dict={X: xbatch, Y: ybatch})\n",
    "        print(\"epoch \" + str(epoch) + \", loss= \" + \"{:.4f}\".format(loss) + \", acc= \" + \"{:.3f}\".format(acc))\n",
    "        acc_save.append(acc)\n",
    "\n",
    "    loss_test_LR,acc_test_LR= sess.run([Loss_logistic,accrancy_logistic], feed_dict={X: test_images, Y: test_labels})\n",
    "    print('test acc=' + '{:.4f}'.format(loss_test_LR))   \n",
    "    print('test acc=' + '{:.3f}'.format(acc_test_LR))          "
   ]
  },
  {
   "cell_type": "markdown",
   "metadata": {},
   "source": [
    "Show accuracy and loss on the testset"
   ]
  },
  {
   "cell_type": "code",
   "execution_count": 12,
   "metadata": {},
   "outputs": [
    {
     "name": "stdout",
     "output_type": "stream",
     "text": [
      "classification loss on test set is  12.319045\n",
      "classification accuracy on test set is  0.7604\n"
     ]
    }
   ],
   "source": [
    "print('classification loss on test set is ',  loss_test_LR)\n",
    "print('classification accuracy on test set is ',  acc_test_LR)"
   ]
  },
  {
   "cell_type": "markdown",
   "metadata": {},
   "source": [
    "# Classification of Fashion-MNIST images-Using Ramdom Forest"
   ]
  },
  {
   "cell_type": "markdown",
   "metadata": {},
   "source": [
    "Import required modules"
   ]
  },
  {
   "cell_type": "code",
   "execution_count": 13,
   "metadata": {},
   "outputs": [],
   "source": [
    "import numpy as np\n",
    "import matplotlib.pyplot as plt\n",
    "import pandas as pd\n",
    "from sklearn.linear_model import LogisticRegression\n",
    "from sklearn.model_selection import train_test_split\n",
    "from sklearn.metrics import accuracy_score, confusion_matrix\n",
    "from sklearn.preprocessing import MinMaxScaler\n",
    "import seaborn as sn\n",
    "sn.set(style='whitegrid')"
   ]
  },
  {
   "cell_type": "markdown",
   "metadata": {},
   "source": [
    "Load the data file"
   ]
  },
  {
   "cell_type": "code",
   "execution_count": 14,
   "metadata": {},
   "outputs": [],
   "source": [
    "from sklearn.datasets import fetch_openml\n",
    "fasion_mnist=fetch_openml(name=\"Fashion-MNIST\")"
   ]
  },
  {
   "cell_type": "markdown",
   "metadata": {},
   "source": [
    "split the data into training, validation, and test"
   ]
  },
  {
   "cell_type": "code",
   "execution_count": 15,
   "metadata": {},
   "outputs": [
    {
     "name": "stdout",
     "output_type": "stream",
     "text": [
      "train: (50400, 784) (50400,)\n",
      "validation: (5600, 784) (5600,)\n",
      "test: (14000, 784) (14000,)\n"
     ]
    }
   ],
   "source": [
    "from sklearn.model_selection import train_test_split\n",
    "\n",
    "X_train, X_test, Y_train, Y_test = train_test_split(fasion_mnist.data, fasion_mnist.target, test_size=0.2, random_state=0)\n",
    "\n",
    "X_train, X_val, Y_train, Y_val = train_test_split(X_train, Y_train, test_size=0.1, random_state=0)\n",
    "\n",
    "print('train:', X_train.shape, Y_train.shape)\n",
    "print('validation:', X_val.shape, Y_val.shape)\n",
    "print('test:', X_test.shape, Y_test.shape)"
   ]
  },
  {
   "cell_type": "markdown",
   "metadata": {},
   "source": [
    "Defind weighted_accuracy"
   ]
  },
  {
   "cell_type": "code",
   "execution_count": 16,
   "metadata": {},
   "outputs": [],
   "source": [
    "def weighted_accuracy(confusion):\n",
    "    M=confusion.copy().astype('float32')\n",
    "    for k in range(0, M.shape[0]):\n",
    "        M[k]/=M[k].sum()+1e-8    \n",
    "    acc = M.diagonal().sum()/M.sum()\n",
    "    return acc"
   ]
  },
  {
   "cell_type": "markdown",
   "metadata": {},
   "source": [
    "feature normalization to training, validation and test set"
   ]
  },
  {
   "cell_type": "code",
   "execution_count": 17,
   "metadata": {},
   "outputs": [],
   "source": [
    "from sklearn.preprocessing import MinMaxScaler\n",
    "scaler=MinMaxScaler()\n",
    "scaler.fit(X_train) \n",
    "X_train=scaler.transform(X_train)\n",
    "X_val=scaler.transform(X_val)\n",
    "X_test=scaler.transform(X_test)"
   ]
  },
  {
   "cell_type": "markdown",
   "metadata": {},
   "source": [
    "Calculate the accurancy on test set-non-the best depth"
   ]
  },
  {
   "cell_type": "code",
   "execution_count": 18,
   "metadata": {},
   "outputs": [
    {
     "name": "stdout",
     "output_type": "stream",
     "text": [
      "classification accuracy on validation set is  0.8730693\n",
      "classification accuracy on test set is  0.86792916\n"
     ]
    }
   ],
   "source": [
    "from sklearn.ensemble import RandomForestClassifier\n",
    "RF = RandomForestClassifier(n_estimators=20, random_state=0,class_weight='balanced')\n",
    "RF.fit(X_train, Y_train)\n",
    "Y_val_pred=RF.predict(X_val)\n",
    "confusion_val=confusion_matrix(Y_val, Y_val_pred)\n",
    "acc_val=weighted_accuracy(confusion_val)\n",
    "Y_test_pred=RF.predict(X_test)\n",
    "confusion_test=confusion_matrix(Y_test, Y_test_pred)\n",
    "acc_test=weighted_accuracy(confusion_test)\n",
    "print('classification accuracy on validation set is ', acc_val)\n",
    "print('classification accuracy on test set is ', acc_test)"
   ]
  },
  {
   "cell_type": "markdown",
   "metadata": {},
   "source": [
    "Create an array of possible max_depth"
   ]
  },
  {
   "cell_type": "code",
   "execution_count": 19,
   "metadata": {},
   "outputs": [
    {
     "data": {
      "text/plain": [
       "array([ 1,  2,  3,  4,  5,  6,  7,  8,  9, 10, 11, 12, 13, 14, 15, 16, 17,\n",
       "       18, 19, 20, 21, 22, 23, 24, 25, 26, 27, 28, 29, 30, 31, 32, 33, 34,\n",
       "       35, 36, 37, 38, 39, 40, 41, 42, 43, 44, 45, 46, 47, 48, 49, 50])"
      ]
     },
     "execution_count": 19,
     "metadata": {},
     "output_type": "execute_result"
    }
   ],
   "source": [
    "max_depth=50\n",
    "\n",
    "max_depth_list=np.arange(1,max_depth+1)\n",
    "\n",
    "max_depth_list"
   ]
  },
  {
   "cell_type": "markdown",
   "metadata": {},
   "source": [
    "record the accuracy on the training set into a list acc_train_list & record the accuracy on the validation set into a list acc_val_list"
   ]
  },
  {
   "cell_type": "code",
   "execution_count": 20,
   "metadata": {},
   "outputs": [],
   "source": [
    "acc_train_list=[]\n",
    "acc_val_list=[]\n",
    "\n",
    "for j in max_depth_list:\n",
    "    RF = RandomForestClassifier(n_estimators=20,max_depth=j, random_state=0,class_weight='balanced')\n",
    "    RF.fit(X_train, Y_train)\n",
    "    \n",
    "    Y_val_pred=RF.predict(X_val)\n",
    "    confusion_val=confusion_matrix(Y_val, Y_val_pred)\n",
    "    acc_val=weighted_accuracy(confusion_val)\n",
    "    \n",
    "    Y_train_pred=RF.predict(X_train)\n",
    "    confusion_train=confusion_matrix(Y_train, Y_train_pred)\n",
    "    acc_train=weighted_accuracy(confusion_train)\n",
    "    \n",
    "    acc_train_list.append(acc_train)\n",
    "    acc_val_list.append(acc_val)"
   ]
  },
  {
   "cell_type": "markdown",
   "metadata": {},
   "source": [
    "Draw the relationship between max_depth and accuracy"
   ]
  },
  {
   "cell_type": "code",
   "execution_count": 21,
   "metadata": {},
   "outputs": [
    {
     "data": {
      "image/png": "[encoded data removed]",
      "text/plain": [
       "<Figure size 720x432 with 2 Axes>"
      ]
     },
     "metadata": {},
     "output_type": "display_data"
    }
   ],
   "source": [
    "fig, ax = plt.subplots(1,2, figsize=(10,6))\n",
    "ax[0].plot(max_depth_list, acc_train_list, 'b')\n",
    "ax[0].set_xlabel('max_depth')\n",
    "ax[0].set_ylabel('training accuracy')\n",
    "ax[0].set_title('max_depth v.s. training accuracy')\n",
    "ax[0].grid(True)\n",
    "\n",
    "ax[1].plot(max_depth_list, acc_val_list, 'r')\n",
    "ax[1].set_xlabel('max_depth')\n",
    "ax[1].set_ylabel('validation accuracy')\n",
    "ax[1].set_title('max_depth v.s. validation accuracy')\n",
    "ax[1].grid(True)"
   ]
  },
  {
   "cell_type": "markdown",
   "metadata": {},
   "source": [
    "Find the max_depth_best"
   ]
  },
  {
   "cell_type": "code",
   "execution_count": 22,
   "metadata": {},
   "outputs": [
    {
     "data": {
      "text/plain": [
       "37"
      ]
     },
     "execution_count": 22,
     "metadata": {},
     "output_type": "execute_result"
    }
   ],
   "source": [
    "Temp1 = np.argmax(acc_val_list,axis=0) \n",
    "max_depth_best =(max_depth_list[Temp1])\n",
    "max_depth_best"
   ]
  },
  {
   "cell_type": "markdown",
   "metadata": {},
   "source": [
    "Calculate the accurancy on test set-the best depth"
   ]
  },
  {
   "cell_type": "code",
   "execution_count": 23,
   "metadata": {},
   "outputs": [
    {
     "name": "stdout",
     "output_type": "stream",
     "text": [
      "classification accuracy on test set is  0.86704195\n"
     ]
    }
   ],
   "source": [
    "RF = RandomForestClassifier(n_estimators=20,max_depth=max_depth_best, random_state=0,class_weight='balanced')\n",
    "RF.fit(X_train, Y_train)\n",
    "Y_test_pred=RF.predict(X_test)\n",
    "confusion_test=confusion_matrix(Y_test, Y_test_pred)\n",
    "acc_test_Random_Forest=weighted_accuracy(confusion_test)\n",
    "print('classification accuracy on test set is ', acc_test_Random_Forest)"
   ]
  },
  {
   "cell_type": "markdown",
   "metadata": {},
   "source": [
    "# Classification of Fashion-MNIST images-Using MLP model"
   ]
  },
  {
   "cell_type": "markdown",
   "metadata": {},
   "source": [
    "Import required modules"
   ]
  },
  {
   "cell_type": "code",
   "execution_count": 24,
   "metadata": {},
   "outputs": [],
   "source": [
    "import tensorflow.keras as keras\n",
    "import sys\n",
    "sys.modules['keras'] = keras\n",
    "from keras.models import Sequential\n",
    "from keras.layers import Dense\n",
    "from keras.optimizers import SGD, Adam\n",
    "from keras.datasets import mnist\n",
    "import matplotlib.pyplot as plt\n",
    "from IPython import display\n",
    "import numpy as np\n",
    "import tensorflow as tf\n",
    "from tensorflow.keras import layers"
   ]
  },
  {
   "cell_type": "markdown",
   "metadata": {},
   "source": [
    "load the data file"
   ]
  },
  {
   "cell_type": "code",
   "execution_count": 25,
   "metadata": {},
   "outputs": [],
   "source": [
    "fashion_mnist = tf.keras.datasets.fashion_mnist\n",
    "(train_images, train_labels), (test_images, test_labels) = fashion_mnist.load_data()"
   ]
  },
  {
   "cell_type": "markdown",
   "metadata": {},
   "source": [
    "feature normalization to training, and test set"
   ]
  },
  {
   "cell_type": "code",
   "execution_count": 26,
   "metadata": {},
   "outputs": [
    {
     "name": "stdout",
     "output_type": "stream",
     "text": [
      "60000 training samples\n",
      "10000 test samples\n"
     ]
    }
   ],
   "source": [
    "#reshape\n",
    "train_images = train_images.reshape(60000, 784)\n",
    "test_images = test_images.reshape(10000, 784)\n",
    "train_images = train_images.astype('float32')\n",
    "test_images= test_images.astype('float32')\n",
    "\n",
    "#normalize the value of every pixel into the range of 0 to 1\n",
    "train_images /= 255\n",
    "test_images /= 255\n",
    "print(train_images.shape[0], 'training samples')\n",
    "print(test_images.shape[0], 'test samples')"
   ]
  },
  {
   "cell_type": "markdown",
   "metadata": {},
   "source": [
    "The data was Seperated train set and validation set"
   ]
  },
  {
   "cell_type": "code",
   "execution_count": 27,
   "metadata": {},
   "outputs": [
    {
     "name": "stdout",
     "output_type": "stream",
     "text": [
      "train: (54000, 784) (54000,)\n",
      "validation: (6000, 784) (6000,)\n",
      "test: (10000, 784) (10000,)\n"
     ]
    }
   ],
   "source": [
    "from sklearn.model_selection import train_test_split\n",
    "x_train, x_val, y_train, y_val = train_test_split(train_images,train_labels, test_size=0.1, random_state=0)\n",
    "print('train:', x_train.shape, y_train.shape)\n",
    "print('validation:', x_val.shape, y_val.shape)\n",
    "print('test:', test_images.shape, test_labels.shape)"
   ]
  },
  {
   "cell_type": "markdown",
   "metadata": {},
   "source": [
    "show the images"
   ]
  },
  {
   "cell_type": "code",
   "execution_count": 28,
   "metadata": {},
   "outputs": [
    {
     "data": {
      "image/png": "[encoded data removed]",
      "text/plain": [
       "<Figure size 216x216 with 1 Axes>"
      ]
     },
     "metadata": {},
     "output_type": "display_data"
    },
    {
     "data": {
      "text/plain": [
       "<Figure size 432x288 with 0 Axes>"
      ]
     },
     "metadata": {},
     "output_type": "display_data"
    }
   ],
   "source": [
    "fig, ax = plt.subplots(figsize=(3, 3))\n",
    "for n in range(0, x_train.shape[0], 1000):\n",
    "    I = x_train[n,:].reshape(28,28)\n",
    "    ax.imshow(I, cmap='gray')\n",
    "    ax.set_title('label: ' + str(int(y_train[n])), fontsize=16)\n",
    "    ax.axis('off')\n",
    "    plt.draw()\n",
    "    display.clear_output(wait=True)\n",
    "    display.display(fig)\n",
    "    plt.pause(0.1) "
   ]
  },
  {
   "cell_type": "markdown",
   "metadata": {},
   "source": [
    "The first image in the training set"
   ]
  },
  {
   "cell_type": "code",
   "execution_count": 29,
   "metadata": {},
   "outputs": [
    {
     "data": {
      "text/plain": [
       "<matplotlib.image.AxesImage at 0x19d8d6d8cd0>"
      ]
     },
     "execution_count": 29,
     "metadata": {},
     "output_type": "execute_result"
    },
    {
     "data": {
      "image/png": "[encoded data removed]",
      "text/plain": [
       "<Figure size 432x288 with 1 Axes>"
      ]
     },
     "metadata": {},
     "output_type": "display_data"
    }
   ],
   "source": [
    "plt.imshow(x_train[0].reshape(28,28), cmap='gray')"
   ]
  },
  {
   "cell_type": "markdown",
   "metadata": {},
   "source": [
    "Define the MLP model"
   ]
  },
  {
   "cell_type": "code",
   "execution_count": 30,
   "metadata": {},
   "outputs": [
    {
     "name": "stdout",
     "output_type": "stream",
     "text": [
      "Model: \"sequential\"\n",
      "_________________________________________________________________\n",
      "Layer (type)                 Output Shape              Param #   \n",
      "=================================================================\n",
      "dense (Dense)                (None, 256)               200960    \n",
      "_________________________________________________________________\n",
      "dense_1 (Dense)              (None, 256)               65792     \n",
      "_________________________________________________________________\n",
      "dense_2 (Dense)              (None, 256)               65792     \n",
      "_________________________________________________________________\n",
      "dense_3 (Dense)              (None, 10)                2570      \n",
      "=================================================================\n",
      "Total params: 335,114\n",
      "Trainable params: 335,114\n",
      "Non-trainable params: 0\n",
      "_________________________________________________________________\n"
     ]
    }
   ],
   "source": [
    "model = Sequential()\n",
    "model.add(Dense(units=256, activation='relu', input_shape=(784,)))\n",
    "model.add(Dense(units=256, activation='relu'))\n",
    "model.add(Dense(units=256, activation='relu'))\n",
    "model.add(Dense(units=10,  activation='sigmoid'))\n",
    "model.compile(loss='sparse_categorical_crossentropy', optimizer=Adam(lr=0.001),\n",
    "              metrics=['accuracy']) \n",
    "model.summary()"
   ]
  },
  {
   "cell_type": "markdown",
   "metadata": {},
   "source": [
    "Train MLP model"
   ]
  },
  {
   "cell_type": "code",
   "execution_count": 31,
   "metadata": {},
   "outputs": [
    {
     "name": "stdout",
     "output_type": "stream",
     "text": [
      "Train on 54000 samples, validate on 6000 samples\n",
      "Epoch 1/64\n",
      "54000/54000 [==============================] - 2s 39us/sample - loss: 0.5128 - acc: 0.8175 - val_loss: 0.3859 - val_acc: 0.8598\n",
      "Epoch 2/64\n",
      "  128/54000 [..............................] - ETA: 3s - loss: 0.4534 - acc: 0.8516"
     ]
    },
    {
     "name": "stderr",
     "output_type": "stream",
     "text": [
      "C:\\Users\\USER\\AppData\\Roaming\\Python\\Python38\\site-packages\\tensorflow\\python\\keras\\engine\\training.py:2325: UserWarning: `Model.state_updates` will be removed in a future version. This property should not be used in TensorFlow 2.0, as `updates` are applied automatically.\n",
      "  warnings.warn('`Model.state_updates` will be removed in a future version. '\n"
     ]
    },
    {
     "name": "stdout",
     "output_type": "stream",
     "text": [
      "54000/54000 [==============================] - 2s 33us/sample - loss: 0.3617 - acc: 0.8676 - val_loss: 0.3481 - val_acc: 0.8755\n",
      "Epoch 3/64\n",
      "54000/54000 [==============================] - 2s 37us/sample - loss: 0.3265 - acc: 0.8794 - val_loss: 0.3172 - val_acc: 0.8823\n",
      "Epoch 4/64\n",
      "54000/54000 [==============================] - 2s 41us/sample - loss: 0.3035 - acc: 0.8880 - val_loss: 0.3417 - val_acc: 0.8727\n",
      "Epoch 5/64\n",
      "54000/54000 [==============================] - 2s 44us/sample - loss: 0.2867 - acc: 0.8935 - val_loss: 0.3122 - val_acc: 0.8870\n",
      "Epoch 6/64\n",
      "54000/54000 [==============================] - 3s 49us/sample - loss: 0.2688 - acc: 0.8986 - val_loss: 0.3241 - val_acc: 0.8842\n",
      "Epoch 7/64\n",
      "54000/54000 [==============================] - 2s 44us/sample - loss: 0.2523 - acc: 0.9046 - val_loss: 0.2936 - val_acc: 0.8925\n",
      "Epoch 8/64\n",
      "54000/54000 [==============================] - 2s 45us/sample - loss: 0.2444 - acc: 0.9073 - val_loss: 0.3106 - val_acc: 0.8915\n",
      "Epoch 9/64\n",
      "54000/54000 [==============================] - 3s 49us/sample - loss: 0.2341 - acc: 0.9121 - val_loss: 0.3051 - val_acc: 0.8890\n",
      "Epoch 10/64\n",
      "54000/54000 [==============================] - 2s 46us/sample - loss: 0.2208 - acc: 0.9154 - val_loss: 0.2919 - val_acc: 0.8957\n",
      "Epoch 11/64\n",
      "54000/54000 [==============================] - 3s 47us/sample - loss: 0.2139 - acc: 0.9174 - val_loss: 0.3137 - val_acc: 0.8908\n",
      "Epoch 12/64\n",
      "54000/54000 [==============================] - 2s 34us/sample - loss: 0.2031 - acc: 0.9208 - val_loss: 0.2906 - val_acc: 0.8987\n",
      "Epoch 13/64\n",
      "54000/54000 [==============================] - 2s 37us/sample - loss: 0.1937 - acc: 0.9258 - val_loss: 0.3468 - val_acc: 0.8923\n",
      "Epoch 14/64\n",
      "54000/54000 [==============================] - 2s 38us/sample - loss: 0.1901 - acc: 0.9282 - val_loss: 0.3056 - val_acc: 0.8977\n",
      "Epoch 15/64\n",
      "54000/54000 [==============================] - 2s 38us/sample - loss: 0.1810 - acc: 0.9307 - val_loss: 0.2942 - val_acc: 0.8983\n",
      "Epoch 16/64\n",
      "54000/54000 [==============================] - 2s 39us/sample - loss: 0.1729 - acc: 0.9340 - val_loss: 0.3099 - val_acc: 0.8947\n",
      "Epoch 17/64\n",
      "54000/54000 [==============================] - 2s 42us/sample - loss: 0.1677 - acc: 0.9354 - val_loss: 0.3192 - val_acc: 0.8980\n",
      "Epoch 18/64\n",
      "54000/54000 [==============================] - 2s 41us/sample - loss: 0.1626 - acc: 0.9364 - val_loss: 0.3205 - val_acc: 0.8943\n",
      "Epoch 19/64\n",
      "54000/54000 [==============================] - 2s 44us/sample - loss: 0.1575 - acc: 0.9388 - val_loss: 0.3177 - val_acc: 0.9023\n",
      "Epoch 20/64\n",
      "54000/54000 [==============================] - 2s 46us/sample - loss: 0.1522 - acc: 0.9409 - val_loss: 0.3390 - val_acc: 0.9008\n",
      "Epoch 21/64\n",
      "54000/54000 [==============================] - 2s 44us/sample - loss: 0.1480 - acc: 0.9430 - val_loss: 0.3240 - val_acc: 0.9023\n",
      "Epoch 22/64\n",
      "54000/54000 [==============================] - 2s 40us/sample - loss: 0.1390 - acc: 0.9469 - val_loss: 0.3467 - val_acc: 0.8953\n",
      "Epoch 23/64\n",
      "54000/54000 [==============================] - 2s 39us/sample - loss: 0.1358 - acc: 0.9467 - val_loss: 0.3470 - val_acc: 0.8992\n",
      "Epoch 24/64\n",
      "54000/54000 [==============================] - 2s 40us/sample - loss: 0.1301 - acc: 0.9487 - val_loss: 0.3722 - val_acc: 0.8943\n",
      "Epoch 25/64\n",
      "54000/54000 [==============================] - 2s 39us/sample - loss: 0.1248 - acc: 0.9514 - val_loss: 0.3588 - val_acc: 0.9007\n",
      "Epoch 26/64\n",
      "54000/54000 [==============================] - 2s 39us/sample - loss: 0.1216 - acc: 0.9525 - val_loss: 0.3492 - val_acc: 0.8997\n",
      "Epoch 27/64\n",
      "54000/54000 [==============================] - 2s 34us/sample - loss: 0.1192 - acc: 0.9534 - val_loss: 0.3883 - val_acc: 0.8992\n",
      "Epoch 28/64\n",
      "54000/54000 [==============================] - 2s 34us/sample - loss: 0.1139 - acc: 0.9556 - val_loss: 0.3907 - val_acc: 0.9003\n",
      "Epoch 29/64\n",
      "54000/54000 [==============================] - 2s 36us/sample - loss: 0.1096 - acc: 0.9577 - val_loss: 0.4597 - val_acc: 0.8920\n",
      "Epoch 30/64\n",
      "54000/54000 [==============================] - 2s 36us/sample - loss: 0.1067 - acc: 0.9582 - val_loss: 0.4270 - val_acc: 0.8947\n",
      "Epoch 31/64\n",
      "54000/54000 [==============================] - 2s 34us/sample - loss: 0.1005 - acc: 0.9605 - val_loss: 0.3872 - val_acc: 0.9042\n",
      "Epoch 32/64\n",
      "54000/54000 [==============================] - 2s 30us/sample - loss: 0.1017 - acc: 0.9599 - val_loss: 0.4497 - val_acc: 0.8970\n",
      "Epoch 33/64\n",
      "54000/54000 [==============================] - 2s 35us/sample - loss: 0.0938 - acc: 0.9635 - val_loss: 0.3978 - val_acc: 0.9033\n",
      "Epoch 34/64\n",
      "54000/54000 [==============================] - 2s 32us/sample - loss: 0.0914 - acc: 0.9644 - val_loss: 0.4127 - val_acc: 0.8943\n",
      "Epoch 35/64\n",
      "54000/54000 [==============================] - 2s 33us/sample - loss: 0.0877 - acc: 0.9656 - val_loss: 0.4350 - val_acc: 0.9027\n",
      "Epoch 36/64\n",
      "54000/54000 [==============================] - 2s 34us/sample - loss: 0.0920 - acc: 0.9637 - val_loss: 0.4359 - val_acc: 0.9047\n",
      "Epoch 37/64\n",
      "54000/54000 [==============================] - 2s 35us/sample - loss: 0.0801 - acc: 0.9693 - val_loss: 0.4937 - val_acc: 0.9027\n",
      "Epoch 38/64\n",
      "54000/54000 [==============================] - 2s 33us/sample - loss: 0.0847 - acc: 0.9670 - val_loss: 0.4560 - val_acc: 0.9005\n",
      "Epoch 39/64\n",
      "54000/54000 [==============================] - 2s 34us/sample - loss: 0.0806 - acc: 0.9691 - val_loss: 0.4795 - val_acc: 0.8998\n",
      "Epoch 40/64\n",
      "54000/54000 [==============================] - 2s 33us/sample - loss: 0.0799 - acc: 0.9696 - val_loss: 0.4927 - val_acc: 0.8965\n",
      "Epoch 41/64\n",
      "54000/54000 [==============================] - 2s 33us/sample - loss: 0.0734 - acc: 0.9715 - val_loss: 0.4521 - val_acc: 0.8973\n",
      "Epoch 42/64\n",
      "54000/54000 [==============================] - 2s 34us/sample - loss: 0.0687 - acc: 0.9734 - val_loss: 0.5135 - val_acc: 0.9013\n",
      "Epoch 43/64\n",
      "54000/54000 [==============================] - 2s 34us/sample - loss: 0.0707 - acc: 0.9727 - val_loss: 0.4822 - val_acc: 0.9008\n",
      "Epoch 44/64\n",
      "54000/54000 [==============================] - 2s 34us/sample - loss: 0.0693 - acc: 0.9736 - val_loss: 0.5001 - val_acc: 0.9008\n",
      "Epoch 45/64\n",
      "54000/54000 [==============================] - 2s 33us/sample - loss: 0.0617 - acc: 0.9768 - val_loss: 0.5240 - val_acc: 0.9002\n",
      "Epoch 46/64\n",
      "54000/54000 [==============================] - 2s 33us/sample - loss: 0.0654 - acc: 0.9753 - val_loss: 0.5367 - val_acc: 0.9010\n",
      "Epoch 47/64\n",
      "54000/54000 [==============================] - 1s 27us/sample - loss: 0.0680 - acc: 0.9745 - val_loss: 0.5157 - val_acc: 0.8972\n",
      "Epoch 48/64\n",
      "54000/54000 [==============================] - 1s 28us/sample - loss: 0.0580 - acc: 0.9778 - val_loss: 0.5156 - val_acc: 0.9045\n",
      "Epoch 49/64\n",
      "54000/54000 [==============================] - 2s 30us/sample - loss: 0.0599 - acc: 0.9769 - val_loss: 0.5499 - val_acc: 0.9000\n",
      "Epoch 50/64\n",
      "54000/54000 [==============================] - 2s 35us/sample - loss: 0.0609 - acc: 0.9770 - val_loss: 0.5801 - val_acc: 0.8932\n",
      "Epoch 51/64\n",
      "54000/54000 [==============================] - 2s 32us/sample - loss: 0.0590 - acc: 0.9772 - val_loss: 0.5220 - val_acc: 0.8965\n",
      "Epoch 52/64\n",
      "54000/54000 [==============================] - 2s 31us/sample - loss: 0.0573 - acc: 0.9781 - val_loss: 0.5186 - val_acc: 0.9003\n",
      "Epoch 53/64\n",
      "54000/54000 [==============================] - 2s 32us/sample - loss: 0.0516 - acc: 0.9805 - val_loss: 0.6033 - val_acc: 0.9018\n",
      "Epoch 54/64\n",
      "54000/54000 [==============================] - 2s 32us/sample - loss: 0.0476 - acc: 0.9821 - val_loss: 0.6424 - val_acc: 0.8967\n",
      "Epoch 55/64\n",
      "54000/54000 [==============================] - 2s 33us/sample - loss: 0.0565 - acc: 0.9785 - val_loss: 0.5907 - val_acc: 0.8942\n",
      "Epoch 56/64\n",
      "54000/54000 [==============================] - 2s 33us/sample - loss: 0.0495 - acc: 0.9813 - val_loss: 0.6208 - val_acc: 0.8995\n",
      "Epoch 57/64\n",
      "54000/54000 [==============================] - 2s 34us/sample - loss: 0.0466 - acc: 0.9825 - val_loss: 0.5735 - val_acc: 0.8990\n",
      "Epoch 58/64\n",
      "54000/54000 [==============================] - 2s 33us/sample - loss: 0.0543 - acc: 0.9798 - val_loss: 0.6699 - val_acc: 0.8948\n",
      "Epoch 59/64\n",
      "54000/54000 [==============================] - 2s 32us/sample - loss: 0.0506 - acc: 0.9819 - val_loss: 0.6092 - val_acc: 0.9045\n",
      "Epoch 60/64\n",
      "54000/54000 [==============================] - 2s 31us/sample - loss: 0.0433 - acc: 0.9842 - val_loss: 0.6546 - val_acc: 0.9020\n",
      "Epoch 61/64\n",
      "54000/54000 [==============================] - 2s 32us/sample - loss: 0.0457 - acc: 0.9831 - val_loss: 0.6544 - val_acc: 0.8967\n",
      "Epoch 62/64\n",
      "54000/54000 [==============================] - 2s 29us/sample - loss: 0.0513 - acc: 0.9812 - val_loss: 0.6162 - val_acc: 0.9015\n",
      "Epoch 63/64\n",
      "54000/54000 [==============================] - 2s 31us/sample - loss: 0.0366 - acc: 0.9865 - val_loss: 0.7269 - val_acc: 0.8937\n",
      "Epoch 64/64\n",
      "54000/54000 [==============================] - 2s 35us/sample - loss: 0.0443 - acc: 0.9833 - val_loss: 0.6439 - val_acc: 0.8983\n"
     ]
    }
   ],
   "source": [
    "history=model.fit(x_train, y_train, batch_size=128, epochs=64, validation_data=(x_val, y_val))"
   ]
  },
  {
   "cell_type": "markdown",
   "metadata": {},
   "source": [
    "Show the relationship between accuracy and epoch & loss and epoch"
   ]
  },
  {
   "cell_type": "code",
   "execution_count": 32,
   "metadata": {},
   "outputs": [
    {
     "data": {
      "image/png": "[encoded data removed]",
      "text/plain": [
       "<Figure size 720x432 with 2 Axes>"
      ]
     },
     "metadata": {},
     "output_type": "display_data"
    }
   ],
   "source": [
    "fig, ax = plt.subplots(1,2, figsize=(10,6))\n",
    "ax[0].plot(history.history['acc'], '-b', label='train acc')\n",
    "ax[0].plot(history.history['val_acc'], '-r', label='val acc')\n",
    "ax[0].set_title('accuracy vs epoch')\n",
    "ax[0].set_xlabel('epoch')\n",
    "ax[0].set_ylabel('accuracy')\n",
    "ax[0].legend(fontsize=12)\n",
    "ax[0].grid(True)\n",
    "\n",
    "ax[1].plot(history.history['loss'], '-b', label='train loss')\n",
    "ax[1].plot(history.history['val_loss'], '-r', label='val loss')\n",
    "ax[1].set_title('loss vs epoch')\n",
    "ax[1].set_xlabel('epoch')\n",
    "ax[1].set_ylabel('loss')\n",
    "ax[1].legend(fontsize=12)\n",
    "ax[1].grid(True)"
   ]
  },
  {
   "cell_type": "markdown",
   "metadata": {},
   "source": [
    "Calculate the accurancy on test set"
   ]
  },
  {
   "cell_type": "code",
   "execution_count": 33,
   "metadata": {},
   "outputs": [
    {
     "name": "stdout",
     "output_type": "stream",
     "text": [
      "Test loss: 0.7329409900625237\n",
      "Test accuracy: 0.892\n"
     ]
    }
   ],
   "source": [
    "score_MLP = model.evaluate(test_images, test_labels, batch_size=64, verbose=0)\n",
    "print('Test loss:', score_MLP[0])\n",
    "print('Test accuracy:', score_MLP[1])"
   ]
  },
  {
   "cell_type": "markdown",
   "metadata": {},
   "source": [
    "# Classification of Fashion-MNIST images-Using 2D CNN"
   ]
  },
  {
   "cell_type": "markdown",
   "metadata": {},
   "source": [
    "select GPU"
   ]
  },
  {
   "cell_type": "code",
   "execution_count": 34,
   "metadata": {},
   "outputs": [],
   "source": [
    "import os\n",
    "os.environ[\"CUDA_DEVICE_ORDER\"] = \"PCI_BUS_ID\" \n",
    "os.environ[\"CUDA_VISIBLE_DEVICES\"] = \"0\""
   ]
  },
  {
   "cell_type": "markdown",
   "metadata": {},
   "source": [
    "Import required modules"
   ]
  },
  {
   "cell_type": "code",
   "execution_count": 35,
   "metadata": {},
   "outputs": [],
   "source": [
    "import matplotlib.pyplot as plt\n",
    "from IPython import display\n",
    "import numpy as np\n",
    "import tensorflow.keras as keras\n",
    "import sys\n",
    "sys.modules['keras'] = keras\n",
    "from keras.models import Sequential\n",
    "from keras.layers import Dense, Conv2D, MaxPooling2D, Flatten\n",
    "from keras.optimizers import SGD\n",
    "from keras.datasets import mnist"
   ]
  },
  {
   "cell_type": "markdown",
   "metadata": {},
   "source": [
    "fix the seeds of random number generators"
   ]
  },
  {
   "cell_type": "code",
   "execution_count": 36,
   "metadata": {},
   "outputs": [],
   "source": [
    "import random\n",
    "random.seed(0)\n",
    "np.random.seed(0)"
   ]
  },
  {
   "cell_type": "markdown",
   "metadata": {},
   "source": [
    "Define the network"
   ]
  },
  {
   "cell_type": "code",
   "execution_count": 37,
   "metadata": {},
   "outputs": [
    {
     "name": "stdout",
     "output_type": "stream",
     "text": [
      "Model: \"sequential_1\"\n",
      "_________________________________________________________________\n",
      "Layer (type)                 Output Shape              Param #   \n",
      "=================================================================\n",
      "conv2d (Conv2D)              (None, 28, 28, 6)         156       \n",
      "_________________________________________________________________\n",
      "max_pooling2d (MaxPooling2D) (None, 14, 14, 6)         0         \n",
      "_________________________________________________________________\n",
      "conv2d_1 (Conv2D)            (None, 10, 10, 16)        2416      \n",
      "_________________________________________________________________\n",
      "max_pooling2d_1 (MaxPooling2 (None, 5, 5, 16)          0         \n",
      "_________________________________________________________________\n",
      "conv2d_2 (Conv2D)            (None, 1, 1, 120)         48120     \n",
      "_________________________________________________________________\n",
      "flatten (Flatten)            (None, 120)               0         \n",
      "_________________________________________________________________\n",
      "dense_4 (Dense)              (None, 84)                10164     \n",
      "_________________________________________________________________\n",
      "dense_5 (Dense)              (None, 10)                850       \n",
      "=================================================================\n",
      "Total params: 61,706\n",
      "Trainable params: 61,706\n",
      "Non-trainable params: 0\n",
      "_________________________________________________________________\n"
     ]
    }
   ],
   "source": [
    "model = Sequential()\n",
    "model.add(Conv2D(filters=6, kernel_size=(5,5), strides=(1,1), padding='valid', activation = 'relu', input_shape=(32,32,1)))\n",
    "model.add(MaxPooling2D(pool_size=2))\n",
    "model.add(Conv2D(filters=16, kernel_size=(5,5), strides=(1,1), padding='valid', activation = 'relu'))\n",
    "model.add(MaxPooling2D(pool_size=2))\n",
    "model.add(Conv2D(filters=120, kernel_size=(5,5), strides=(1,1), padding='valid', activation = 'relu'))\n",
    "model.add(Flatten())\n",
    "model.add(Dense(units=84, activation='relu'))\n",
    "model.add(Dense(units=10,  activation='softmax'))\n",
    "model.compile(loss='sparse_categorical_crossentropy', optimizer=Adam(lr=0.001), metrics=['accuracy'])\n",
    "model.summary()"
   ]
  },
  {
   "cell_type": "markdown",
   "metadata": {},
   "source": [
    "Load data and normalization data"
   ]
  },
  {
   "cell_type": "code",
   "execution_count": 38,
   "metadata": {},
   "outputs": [],
   "source": [
    "(x_train, y_train), (x_test, y_test) = mnist.load_data()\n",
    "x_train=x_train.astype('float32')\n",
    "x_test=x_test.astype('float32')\n",
    "x_train/=255 \n",
    "x_test/=255"
   ]
  },
  {
   "cell_type": "markdown",
   "metadata": {},
   "source": [
    "Resize the images from 28x28 to 32x32"
   ]
  },
  {
   "cell_type": "code",
   "execution_count": 39,
   "metadata": {},
   "outputs": [],
   "source": [
    "from skimage.transform import resize\n",
    "x_train_resized=np.zeros((x_train.shape[0],32,32), dtype=np.float32)\n",
    "for n in range(0, x_train.shape[0]):\n",
    "    x = x_train[n,:,:]\n",
    "    x = resize(x, [32, 32], mode='edge')\n",
    "    x_train_resized[n,:,:]=x\n",
    "x_test_resized=np.zeros((x_test.shape[0],32,32), dtype=np.float32)\n",
    "for n in range(0, x_test.shape[0]):\n",
    "    x = x_test[n,:,:]\n",
    "    x = resize(x, [32, 32], mode='edge')\n",
    "    x_test_resized[n,:,:]=x\n",
    "x_train=x_train_resized\n",
    "x_test=x_test_resized"
   ]
  },
  {
   "cell_type": "markdown",
   "metadata": {},
   "source": [
    "Reshape every data point"
   ]
  },
  {
   "cell_type": "code",
   "execution_count": 40,
   "metadata": {},
   "outputs": [],
   "source": [
    "x_train=x_train.reshape(-1,32,32,1)\n",
    "x_test=x_test.reshape(-1,32,32,1)"
   ]
  },
  {
   "cell_type": "markdown",
   "metadata": {},
   "source": [
    "The data was Seperated train set and validation set"
   ]
  },
  {
   "cell_type": "code",
   "execution_count": 41,
   "metadata": {},
   "outputs": [
    {
     "name": "stdout",
     "output_type": "stream",
     "text": [
      "train: (54000, 32, 32, 1) (54000,)\n",
      "validation: (6000, 32, 32, 1) (6000,)\n",
      "test: (10000, 784) (10000,)\n"
     ]
    }
   ],
   "source": [
    "from sklearn.model_selection import train_test_split\n",
    "x_train, x_val, y_train, y_val = train_test_split(x_train, y_train, test_size=0.1, random_state=0)\n",
    "print('train:', x_train.shape, y_train.shape)\n",
    "print('validation:', x_val.shape, y_val.shape)\n",
    "print('test:', test_images.shape, test_labels.shape)"
   ]
  },
  {
   "cell_type": "markdown",
   "metadata": {},
   "source": [
    "Show images"
   ]
  },
  {
   "cell_type": "code",
   "execution_count": 42,
   "metadata": {},
   "outputs": [
    {
     "data": {
      "image/png": "[encoded data removed]",
      "text/plain": [
       "<Figure size 216x216 with 1 Axes>"
      ]
     },
     "metadata": {},
     "output_type": "display_data"
    },
    {
     "data": {
      "text/plain": [
       "<Figure size 432x288 with 0 Axes>"
      ]
     },
     "metadata": {},
     "output_type": "display_data"
    }
   ],
   "source": [
    "fig, ax = plt.subplots(figsize=(3, 3))\n",
    "for n in range(0, x_train.shape[0], 5000):\n",
    "    I = x_train[n].reshape(32,32)\n",
    "    ax.imshow(I, cmap='gray')\n",
    "    ax.set_title('label: ' + str(int(y_train[n])), fontsize=16)\n",
    "    ax.axis('off')\n",
    "    plt.draw()\n",
    "    display.clear_output(wait=True)\n",
    "    display.display(fig)\n",
    "    plt.pause(0.1) "
   ]
  },
  {
   "cell_type": "markdown",
   "metadata": {},
   "source": [
    "train the neural network model over many epochs"
   ]
  },
  {
   "cell_type": "code",
   "execution_count": 43,
   "metadata": {},
   "outputs": [],
   "source": [
    "loss_train_list=[]\n",
    "acc_train_list=[]\n",
    "loss_val_list=[]\n",
    "acc_val_list=[]\n",
    "loss_test_list=[]\n",
    "acc_test_list=[]\n",
    "epoch_save=-1"
   ]
  },
  {
   "cell_type": "code",
   "execution_count": 44,
   "metadata": {},
   "outputs": [
    {
     "name": "stdout",
     "output_type": "stream",
     "text": [
      "epoch 0\n",
      "Train on 54000 samples, validate on 6000 samples\n",
      "54000/54000 [==============================] - 13s 234us/sample - loss: 0.3252 - acc: 0.9033 - val_loss: 0.1005 - val_acc: 0.9672\n",
      "epoch 0 training loss: 0.32518942132261064 acc: 0.9033148\n",
      "epoch 0 validation loss: 0.10050932655731837 acc: 0.96716666\n",
      "epoch 0 testing loss: 0.09156646437346935 acc: 0.9711\n",
      "epoch 1\n",
      "Train on 54000 samples, validate on 6000 samples\n",
      "54000/54000 [==============================] - 12s 227us/sample - loss: 0.0905 - acc: 0.9721 - val_loss: 0.0693 - val_acc: 0.9772\n",
      "epoch 1 training loss: 0.09053922555623231 acc: 0.97205555\n",
      "epoch 1 validation loss: 0.06929022241632143 acc: 0.97716665\n",
      "epoch 1 testing loss: 0.06747253027400002 acc: 0.9782\n",
      "epoch 2\n",
      "Train on 54000 samples, validate on 6000 samples\n",
      "54000/54000 [==============================] - 13s 243us/sample - loss: 0.0633 - acc: 0.9804 - val_loss: 0.0629 - val_acc: 0.9812\n",
      "epoch 2 training loss: 0.06334436908309106 acc: 0.98044443\n",
      "epoch 2 validation loss: 0.06286288187404473 acc: 0.98116666\n",
      "epoch 2 testing loss: 0.051054919905401765 acc: 0.9822\n",
      "epoch 3\n",
      "Train on 54000 samples, validate on 6000 samples\n",
      "54000/54000 [==============================] - 13s 241us/sample - loss: 0.0504 - acc: 0.9842 - val_loss: 0.0496 - val_acc: 0.9855\n",
      "epoch 3 training loss: 0.050408887956981306 acc: 0.9841667\n",
      "epoch 3 validation loss: 0.04964286369085312 acc: 0.9855\n",
      "epoch 3 testing loss: 0.041214132911060006 acc: 0.9858\n",
      "epoch 4\n",
      "Train on 54000 samples, validate on 6000 samples\n",
      "54000/54000 [==============================] - 13s 241us/sample - loss: 0.0420 - acc: 0.9873 - val_loss: 0.0382 - val_acc: 0.9888\n",
      "epoch 4 training loss: 0.04195058655959589 acc: 0.98725927\n",
      "epoch 4 validation loss: 0.03818968847890695 acc: 0.9888333\n",
      "epoch 4 testing loss: 0.034065191507688726 acc: 0.9876\n",
      "epoch 5\n",
      "Train on 54000 samples, validate on 6000 samples\n",
      "54000/54000 [==============================] - 13s 244us/sample - loss: 0.0347 - acc: 0.9894 - val_loss: 0.0389 - val_acc: 0.9882\n",
      "epoch 5 training loss: 0.034712568714110936 acc: 0.9893889\n",
      "epoch 5 validation loss: 0.03888559951384862 acc: 0.9881667\n",
      "epoch 5 testing loss: 0.03313549279461149 acc: 0.9885\n",
      "epoch 6\n",
      "Train on 54000 samples, validate on 6000 samples\n",
      "54000/54000 [==============================] - 13s 239us/sample - loss: 0.0296 - acc: 0.9906 - val_loss: 0.0398 - val_acc: 0.9887\n",
      "epoch 6 training loss: 0.029644886708921857 acc: 0.99061114\n",
      "epoch 6 validation loss: 0.039818562378485994 acc: 0.98866665\n",
      "epoch 6 testing loss: 0.03700147594846785 acc: 0.9877\n",
      "epoch 7\n",
      "Train on 54000 samples, validate on 6000 samples\n",
      "54000/54000 [==============================] - 13s 246us/sample - loss: 0.0267 - acc: 0.9912 - val_loss: 0.0340 - val_acc: 0.9902\n",
      "epoch 7 training loss: 0.026678707563214832 acc: 0.9911852\n",
      "epoch 7 validation loss: 0.033993434480081 acc: 0.99016666\n",
      "epoch 7 testing loss: 0.02747273606893723 acc: 0.9902\n",
      "epoch 8\n",
      "Train on 54000 samples, validate on 6000 samples\n",
      "54000/54000 [==============================] - 14s 263us/sample - loss: 0.0220 - acc: 0.9930 - val_loss: 0.0347 - val_acc: 0.9910\n",
      "epoch 8 training loss: 0.021998760084587114 acc: 0.993\n",
      "epoch 8 validation loss: 0.03469232281545798 acc: 0.991\n",
      "epoch 8 testing loss: 0.03181462414002745 acc: 0.9895\n",
      "epoch 9\n",
      "Train on 54000 samples, validate on 6000 samples\n",
      "54000/54000 [==============================] - 16s 288us/sample - loss: 0.0197 - acc: 0.9934 - val_loss: 0.0392 - val_acc: 0.9887\n",
      "epoch 9 training loss: 0.01972931505036023 acc: 0.99344444\n",
      "epoch 9 validation loss: 0.03917937753597895 acc: 0.98866665\n",
      "epoch 9 testing loss: 0.0322244547358423 acc: 0.9895\n"
     ]
    }
   ],
   "source": [
    "for epoch in range(epoch_save+1, 10):\n",
    "    #-------- training and validation--------------------------------\n",
    "    print('epoch', epoch)\n",
    "    #set epochs=1\n",
    "    history=model.fit(x_train, y_train, batch_size=128, epochs=1, validation_data=(x_val, y_val))    \n",
    "    loss_train=history.history['loss'][0]\n",
    "    acc_train=history.history['acc'][0]        \n",
    "    loss_val=history.history['val_loss'][0]\n",
    "    acc_val=history.history['val_acc'][0]     \n",
    "    loss_train_list.append(loss_train)\n",
    "    acc_train_list.append(acc_train)\n",
    "    loss_val_list.append(loss_val)\n",
    "    acc_val_list.append(acc_val)    \n",
    "    print('epoch', epoch, 'training loss:', loss_train, 'acc:', acc_train)\n",
    "    print('epoch', epoch, 'validation loss:', loss_val, 'acc:', acc_val)\n",
    "    #-------- testing --------------------------------\n",
    "    score = model.evaluate(x_test, y_test, batch_size=64, verbose=0)\n",
    "    loss_test=score[0]\n",
    "    acc_test=score[1]\n",
    "    loss_test_list.append(loss_test)\n",
    "    acc_test_list.append(acc_test)\n",
    "    print('epoch', epoch, 'testing loss:', loss_test, 'acc:', acc_test)    \n",
    "    #--------save model-------------------------\n",
    "    model.save('LeNet5_Keras_epoch'+str(epoch)+'.h5')    \n",
    "    epoch_save=epoch"
   ]
  },
  {
   "cell_type": "markdown",
   "metadata": {},
   "source": [
    "Calculate the accurancy on test set"
   ]
  },
  {
   "cell_type": "code",
   "execution_count": 45,
   "metadata": {},
   "outputs": [
    {
     "name": "stdout",
     "output_type": "stream",
     "text": [
      "Test loss: 0.0322244547358423\n",
      "Test accuracy: 0.9895\n"
     ]
    }
   ],
   "source": [
    "score_2D_CNN = model.evaluate(x_test, y_test, batch_size=64, verbose=0)\n",
    "print('Test loss:', score_2D_CNN[0])\n",
    "print('Test accuracy:', score_2D_CNN[1])"
   ]
  },
  {
   "cell_type": "markdown",
   "metadata": {},
   "source": [
    "Compared accurancy value of logistic regressin/ Random Forest,MLP model, and 2D CNN"
   ]
  },
  {
   "cell_type": "code",
   "execution_count": 46,
   "metadata": {},
   "outputs": [
    {
     "name": "stdout",
     "output_type": "stream",
     "text": [
      "Logistic regression model  0.7604\n",
      "Random Forest model  0.86704195\n",
      "MLP model 0.892\n",
      "2D CNN model 0.9895\n"
     ]
    }
   ],
   "source": [
    "import statistics\n",
    "\n",
    "print('Logistic regression model ', acc_test_LR)\n",
    "\n",
    "print('Random Forest model ', acc_test_Random_Forest)\n",
    "\n",
    "print('MLP model',score_MLP[1])\n",
    "\n",
    "print('2D CNN model',score_2D_CNN[1])"
   ]
  },
  {
   "cell_type": "code",
   "execution_count": 47,
   "metadata": {},
   "outputs": [],
   "source": [
    "#First, I build a logistic regressin, Random Forest,MLP,and 2D CNN model.\n",
    "# At Logistic regression model, I use the method of tensorflow to code. I build 3 layers, including input layer, hidden layer, and output layer.\n",
    "# At Random forest model, I use the method of sklearn to build the model, and I find the best depth to calculate the accuracy. \n",
    "# At MLP model, I use the method of keras to build 4 layers and nonlinear activation (relu and Sigmoid).\n",
    "# At 2D CNN model, I use the method of keras to build 3 convolution layers, 2 pooling layers, and 2 fully connected.\n",
    "#Second, I compared the accuracy of logistic regressin/ Random Forest,MLP,and 2D CNN on test set.\n",
    "#Finally, I found the results as follows.\n",
    "\n",
    "#Conclusion:\n",
    "# 1. Based on the result, we can find that the accuracy of logistic regressin/ Random Forest,MLP,and 2D CNN model\n",
    "#    are 0.7604, 0.867, 0.892, and 0.9895.\n",
    "# 2. Therefore, we get the accuracy from high to low. The first one is 2D CNN model. The second one is MLP model.\n",
    "#    The third one is Random Forest, and the last one is logistic regressin."
   ]
  }
 ],
 "metadata": {
  "kernelspec": {
   "display_name": "Python 3 (ipykernel)",
   "language": "python",
   "name": "python3"
  },
  "language_info": {
   "codemirror_mode": {
    "name": "ipython",
    "version": 3
   },
   "file_extension": ".py",
   "mimetype": "text/x-python",
   "name": "python",
   "nbconvert_exporter": "python",
   "pygments_lexer": "ipython3",
   "version": "3.9.7"
  }
 },
 "nbformat": 4,
 "nbformat_minor": 4
}
